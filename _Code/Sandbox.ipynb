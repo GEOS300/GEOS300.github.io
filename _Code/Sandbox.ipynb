{
 "cells": [
  {
   "cell_type": "code",
   "execution_count": 4,
   "metadata": {},
   "outputs": [],
   "source": [
    "import pandas as pd\n",
    "\n",
    "Dates = pd.date_range('2024-01-01','2024-12-31')\n",
    "\n",
    "import numpy as np\n",
    "import pandas as pd\n",
    "import matplotlib.pyplot as plt\n"
   ]
  },
  {
   "cell_type": "code",
   "execution_count": 12,
   "metadata": {},
   "outputs": [
    {
     "data": {
      "text/plain": [
       "Index([23.175556231549727, 23.234160110071496], dtype='float64')"
      ]
     },
     "execution_count": 12,
     "metadata": {},
     "output_type": "execute_result"
    }
   ],
   "source": [
    "\n",
    "def Solar_Declination(DOY):\n",
    "  gamma = 2*np.pi/365*(DOY-1)\n",
    "  delta = 0.006918 - 0.399912 * np.cos(gamma)+0.070257 *np.sin(gamma)-0.006758 *np.cos(2*gamma) + 0.000907*np.sin(2*gamma)-0.002697*np.cos(3*gamma)+0.00148 *np.sin(3*gamma)\n",
    "  declination=delta*180/np.pi\n",
    "  return(declination)\n",
    "\n",
    "Dates = pd.date_range('2024-01-01','2024-12-31')\n",
    "Dates = pd.date_range('2024-06-21','2024-06-22')\n",
    "Declination = Solar_Declination(Dates.dayofyear)\n",
    "Declination\n",
    "# plt.figure()\n",
    "# plt.plot(Dates,Declination)\n",
    "# plt.ylabel('Solar Declination')"
   ]
  },
  {
   "cell_type": "code",
   "execution_count": 254,
   "metadata": {},
   "outputs": [
    {
     "name": "stdout",
     "output_type": "stream",
     "text": [
      "Timezone not provided, estimating for -127.5, 50\n",
      "\n",
      "6:36\n"
     ]
    }
   ],
   "source": [
    "# from tzfpy import get_tz\n",
    "# import pytz\n",
    "# tzinfo = pytz.timezone(get_tz(-123.256,49.265))\n",
    "\n",
    "\n",
    "from tzfpy import get_tz\n",
    "from datetime import *\n",
    "import pandas as pd\n",
    "import pytz\n",
    "import numpy as np\n",
    "\n",
    "class Tzfuncs():\n",
    "    # Takes an input timezone or auto-determines a (DST aware) timezone from lat/lon coordinates\n",
    "    # Will convert to TZ aware \"UTC_time\" and \"Local_Time\" along with non-TZ aware / non DST \"Standard_Time\"\n",
    "\n",
    "    def __init__(self,Time_Zone=None,lat_lon=None,DST=False):\n",
    "        self.DST = DST\n",
    "        self.lat_lon = lat_lon\n",
    "        if Time_Zone is not None:\n",
    "            self.Time_Zone = pytz.timezone(Time_Zone)\n",
    "        elif self.lat_lon is not None:\n",
    "            self.AssumeTZ(lat_lon[1],lat_lon[0])\n",
    "        else:\n",
    "            print(f'No Time Zone Info Provided')\n",
    "\n",
    "    def AssumeTZ(self,lon,lat):\n",
    "        self.DST=True\n",
    "        print(f'Timezone not provided, estimating for {lon}, {lat}')\n",
    "        self.Time_Zone = pytz.timezone(get_tz(lon,lat))\n",
    "\n",
    "    def convert(self,Input_Time,from_UTC=False,to_UTC=False):\n",
    "        if isinstance(Input_Time,pd.DatetimeIndex):\n",
    "            Input_Time=Input_Time.to_series()\n",
    "        if from_UTC == False:\n",
    "            self.Local_Time=Input_Time\n",
    "            self.to_StandardTime(to_UTC)\n",
    "            if self.lat_lon is not None:\n",
    "                self.get_LAT()\n",
    "        else:\n",
    "            self.UTC_Time=Input_Time\n",
    "            self.fromUTC()\n",
    "\n",
    "    def to_StandardTime(self,to_UTC=False):\n",
    "        offset = self.Local_Time.apply(lambda x: self.Time_Zone.dst(x,is_dst=self.DST))\n",
    "        if self.DST == True:\n",
    "            self.Standard_Time = pd.DatetimeIndex(self.Local_Time-offset)\n",
    "            self.Local_Time = self.Local_Time.apply(lambda x: self.Time_Zone.localize(x,is_dst=self.DST))\n",
    "        else:\n",
    "            self.Standard_Time = pd.DatetimeIndex(self.Local_Time)\n",
    "            self.Local_Time = (self.Local_Time+offset).apply(lambda x: self.Time_Zone.localize(x,is_dst=self.DST))\n",
    "        if to_UTC == True:\n",
    "            self.toUTC()\n",
    "        self.Local_Time = pd.DatetimeIndex(self.Local_Time)\n",
    "\n",
    "    def toUTC(self):\n",
    "        self.UTC_Time = pd.DatetimeIndex(self.Local_Time.apply(lambda x: x.astimezone(pytz.utc)))\n",
    "\n",
    "    def fromUTC(self):\n",
    "        self.UTC_Time = self.UTC_Time.apply(lambda x: pytz.utc.localize(x, is_dst=self.DST))\n",
    "        self.Local_Time = self.UTC_Time.apply(lambda x: x.astimezone(self.Time_Zone).replace(tzinfo=None))\n",
    "        self.to_StandardTime(to_UTC=False)\n",
    "        self.UTC_Time = pd.DatetimeIndex(self.UTC_Time)\n",
    "    \n",
    "    def get_LAT(self):\n",
    "        Meridian = pd.Series([15*t.utcoffset().total_seconds()/3600 for t in self.Local_Time])\n",
    "        self.LST = self.Local_Time.hour*60+self.Local_Time.minute\n",
    "        self.LMST = self.LST+(self.lat_lon[1]-Meridian)*4\n",
    "        max_DOY = (self.Local_Time+pd.offsets.YearEnd()).dayofyear\n",
    "        gamma = 2*np.pi/max_DOY*(self.Local_Time.dayofyear-1+(self.Local_Time.hour-12)/24)\n",
    "        self.Delta_LAT = 229.18*(0.000075+0.001868*np.cos(gamma)-0.032077*np.sin(gamma)-0.014615*np.cos(2*gamma)-0.040849*np.sin(2*gamma))\n",
    "        self.LAT = self.LMST-self.Delta_LAT\n",
    "\n",
    "tz = Tzfuncs(lat_lon=[50,-127.5])\n",
    "Dates = pd.date_range('2024-07-22 8:00','2024-07-22 9:00')\n",
    "print()\n",
    "tz.convert(Dates)\n",
    "print(f'{int(np.floor(tz.LAT[0]/60))}:{int(tz.LAT[0]/60%1*60)}')"
   ]
  },
  {
   "cell_type": "code",
   "execution_count": 253,
   "metadata": {},
   "outputs": [
    {
     "data": {
      "text/plain": [
       "Index([366], dtype='int32')"
      ]
     },
     "execution_count": 253,
     "metadata": {},
     "output_type": "execute_result"
    }
   ],
   "source": [
    "(Dates+ pd.offsets.YearEnd()).dayofyear \n",
    "# Dates"
   ]
  },
  {
   "cell_type": "code",
   "execution_count": 233,
   "metadata": {},
   "outputs": [
    {
     "data": {
      "text/plain": [
       "[<matplotlib.lines.Line2D at 0x22816817fd0>]"
      ]
     },
     "execution_count": 233,
     "metadata": {},
     "output_type": "execute_result"
    },
    {
     "data": {
      "image/png": "[encoded data removed]",
      "text/plain": [
       "<Figure size 640x480 with 1 Axes>"
      ]
     },
     "metadata": {},
     "output_type": "display_data"
    }
   ],
   "source": [
    "import matplotlib.pyplot as plt\n",
    "Dates = pd.date_range('2024-01-01 12:00','2024-12-31 12:00')\n",
    "tz.convert(Dates)\n",
    "# tz.LAT\n",
    "\n",
    "plt.figure()\n",
    "plt.plot(tz.Delta_LAT/60)\n",
    "# plt.plot(tz.LAT_alt/60)\n",
    "# tz.LMST"
   ]
  },
  {
   "cell_type": "code",
   "execution_count": 272,
   "metadata": {},
   "outputs": [
    {
     "data": {
      "text/plain": [
       "Date\n",
       "2024-03-13    \n",
       "Name: Topic, dtype: object"
      ]
     },
     "execution_count": 272,
     "metadata": {},
     "output_type": "execute_result"
    }
   ],
   "source": [
    "import pandas as pd\n",
    "import numpy as np\n",
    "import datetime\n",
    "from IPython.display import Markdown\n",
    "from tabulate import tabulate\n",
    "Mon = pd.date_range(\"20240108\", \"20240412\", freq='W-Mon')\n",
    "Wed = pd.date_range(\"20240108\", \"20240424\", freq='W-Wed')\n",
    "Week = np.arange(1,Mon.shape[0])\n",
    "Lecture_Dates = Mon.union(Wed).date\n",
    "\n",
    "Lectures = pd.DataFrame(data={'Date':Lecture_Dates})\n",
    "Lectures['Topic']=''\n",
    "Lectures['Suggested Reading']=''\n",
    "Lectures['Study Questions']=''\n",
    "Topics = [\n",
    "'Course Overview',\n",
    "'What is Micrometeorology?',\n",
    "'Energy and Mass Balances',\n",
    "'**Snow Day**/No Class',\n",
    "'A Deeper Dive into Surface Energy Balances',\n",
    "'Radiation Geometry'\n",
    "]\n",
    "Readings = [\n",
    "    '',\n",
    "    'Open Geomatics section [3.1](https://www.opengeomatics.ca/types-of-data.html#types-of-phenomena) & [3.2](https://www.opengeomatics.ca/types-of-data.html#types-of-data-1)',\n",
    "    '',\n",
    "    '',\n",
    "    '',\n",
    "    '[Additional Reading](../www/readings04_05.pdf)'\n",
    "]\n",
    "Study = ['',\n",
    "        '',\n",
    "        '[01](../Study_Questions/01.html)',\n",
    "        '',\n",
    "        '',\n",
    "        '[02](../Study_Questions/02.html)',\n",
    "        ]\n",
    "\n",
    "for i,row in Lectures.iterrows():\n",
    "    if i <= len(Topics)-1:\n",
    "        Lectures.loc[Lectures.index==i,'Topic'] = Topics[i]\n",
    "    if i <= len(Readings)-1:\n",
    "        Lectures.loc[Lectures.index==i,'Suggested Reading'] = Readings[i]\n",
    "    if i <= len(Study)-1:\n",
    "        Lectures.loc[Lectures.index==i,'Study Questions'] = Study[i]\n",
    "\n",
    "Lectures.set_index('Date',inplace=True)\n",
    "\n",
    "Lectures.loc[Lectures.index==pd.to_datetime('2024-03-13').date(),'Topic'] #= '**Midterm Exam**'\n",
    "# Lectures.loc[Lectures.index==pd.to_datetime('2024-04-24'),'Topic'] = '**Final Exam**'\n",
    "# Lectures.index[10]\n",
    "# pd.to_datetime('2024-03-13').date()"
   ]
  }
 ],
 "metadata": {
  "kernelspec": {
   "display_name": "Python 3",
   "language": "python",
   "name": "python3"
  },
  "language_info": {
   "codemirror_mode": {
    "name": "ipython",
    "version": 3
   },
   "file_extension": ".py",
   "mimetype": "text/x-python",
   "name": "python",
   "nbconvert_exporter": "python",
   "pygments_lexer": "ipython3",
   "version": "3.11.5"
  }
 },
 "nbformat": 4,
 "nbformat_minor": 2
}
