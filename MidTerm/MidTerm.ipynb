{
  "cells": [
    {
      "cell_type": "raw",
      "metadata": {},
      "source": [
        "---\n",
        "title: MidTerm\n",
        "keep-ipynb: true\n",
        "---"
      ],
      "id": "f62ab7ed"
    },
    {
      "cell_type": "markdown",
      "metadata": {},
      "source": [
        "# Written Portion\n",
        "\n",
        "## Problem Question\n"
      ],
      "id": "eaa116c5"
    },
    {
      "cell_type": "code",
      "metadata": {},
      "source": [
        "#| echo: false\n",
        "#| label: tbl-Constants\n",
        "#| tbl-cap: Constants\n",
        "\n",
        "import matplotlib.pyplot as plt\n",
        "import numpy as np\n",
        "import pandas as pd\n",
        "from IPython.display import Markdown\n",
        "from tabulate import tabulate\n",
        "\n",
        "\n",
        "Constants = {\n",
        "    'Heat Capacity of Air':{'value':0.001,'unit':'$MJ m^{-3} K^{-1}$','Symbol':'$C_a$'},\n",
        "    'Heat Capacity of Water':{'value':4.2,'unit':'$MJ m^{-3} K^{-1}$','Symbol':'$C_w$'},\n",
        "    'Heat Capacity of Organic Soil':{'value':2.5,'unit':'$MJ m^{-3} K^{-1}$','Symbol':'$C_o$'},\n",
        "    'Heat Capacity of Mineral Soil':{'value':2.0,'unit':'$MJ m^{-3} K^{-1}$','Symbol':'$C_a$'},\n",
        "    'Solar Constant':{'value':1361,'unit':'$W m^{-2}$','Symbol':'$I_0$'},\n",
        "    'Latent Heat of Vaporization':{'value':2.50,'unit':'$MJ kg^{-1}$','Symbol':'$L_v$'},\n",
        "    'Latent Heat of Fusion':{'value':0.34,'unit':'$MJ kg^{-1}$','Symbol':'$L_f$'},\n",
        "}\n",
        "\n",
        "Constants = pd.DataFrame(Constants).T[['Symbol','value','unit']]\n",
        "\n",
        "Markdown(tabulate(\n",
        "  Constants,headers=['Constant','Symbol','Value','Units']\n",
        "))"
      ],
      "id": "tbl-Constants",
      "execution_count": null,
      "outputs": []
    },
    {
      "cell_type": "code",
      "metadata": {},
      "source": [
        "#| echo: false\n",
        "#| label: tbl-Symbols\n",
        "#| tbl-cap: Symbols\n",
        "\n",
        "Symbols = {\n",
        "    '$R_n$':{'name':'Net Radiation','unit':'$W m^{-2}$'},\n",
        "    '$LE$':{'name':'Latent Heat Flux','unit':'$W m^{-2}$'},\n",
        "    '$H$':{'name':'Sensible Heat Flux','unit':'$W m^{-2}$'},\n",
        "    '$H_g$':{'name':'Ground Heat Flux','unit':'$W m^{-2}$'},\n",
        "    '$Ta_z$':{'name':'Air Temperature at the Height (z in m) Above the Surface','unit':'$^{\\circ}C$'},\n",
        "    '$RH_z$':{'name':'Relative Humidity at the Height (z in m) Above the Surface','unit':'%'},\n",
        "    '$T_0$':{'name':'Temperature at the Ground Surface','unit':'$^{\\circ}C$'},\n",
        "    '$Ts_z$':{'name':'Air Temperature at the Depth (z in m) Below the Surface','unit':'$^{\\circ}C$'},\n",
        "    '$\\Theta_o$':{'name':'Volumetric Fraction of Organic Matter','unit':'%'},\n",
        "    '$\\Theta_w$':{'name':'Volumetric Fraction of Liquid Fresh Water','unit':'%'},\n",
        "    '$r_b$':{'name':'Boundary Layer Resistance','unit':'$s m^{-1}$'},\n",
        "}\n",
        "\n",
        "df = pd.DataFrame(Symbols).T[['name','unit']]\n",
        "\n",
        "\n",
        "Markdown(tabulate(\n",
        "  df,headers=['Symbol','Name','Units']\n",
        "))"
      ],
      "id": "tbl-Symbols",
      "execution_count": null,
      "outputs": []
    },
    {
      "cell_type": "markdown",
      "metadata": {},
      "source": [
        "You have randomly been assigned observations of conditions above and below different the ground surface at a collection of different sites @tbl-data.  Each set observation was taken at midnight in early winter, under partly cloudy skies with light winds.  The observations were precede by a period of dry weather, such that there is no liquid or solid water present on or above the soil surface.  You will use these data to answer the questions below.\n"
      ],
      "id": "eb8e6419"
    },
    {
      "cell_type": "code",
      "metadata": {},
      "source": [
        "#| echo: false\n",
        "#| label: tbl-data\n",
        "#| tbl-cap: Observations\n",
        "def pmute(N,u=0,range=1,resolution = 1,i=0):\n",
        "    seed=42\n",
        "    np.random.seed(seed+i)\n",
        "    A = (np.random.rand(N)*range)+u\n",
        "    return(np.round(A,resolution))\n",
        "\n",
        "N = 6\n",
        "\n",
        "Profile = pd.DataFrame({\n",
        "    'ID':list(map(chr, range(65,65+N))),\n",
        "    '$R_n$':pmute(N,-50,5,0),\n",
        "    '$LE$':pmute(N,-5,1,0),\n",
        "    '$Ta_{0.1}$':pmute(N,-1,.3),# (0.1 m above surface)\n",
        "    '$RH_{0.1}$':pmute(N,100,0),# (0.1 m above surface)\n",
        "    '$T_0$':pmute(N,1,.3,i=1),# (at the ground surface)\n",
        "    '$Ts_{0.1}$':pmute(N,3,.3,i=2),# (0.1 m below ground surface)\n",
        "    '$\\Theta_o$':pmute(N,25,5,0),# Organic %\n",
        "    'Porosity':pmute(N,30,5,0),# Porosity %\n",
        "    '$\\Theta_w$':pmute(N,15,5,0),#Volumetric Water Content (theta_w) [%]\n",
        "    '$r_b$':pmute(N,50,5,0)#Laminar Boundary Layer Resistance [s m-1]\n",
        "    },index=list(map(chr, range(65,65+N))))\n",
        "\n",
        "Markdown(tabulate(\n",
        "  Profile.values,headers=Profile.columns.values\n",
        "))"
      ],
      "id": "tbl-data",
      "execution_count": null,
      "outputs": []
    },
    {
      "cell_type": "markdown",
      "metadata": {},
      "source": [
        "(@) Based on the observations, what phenomena do you anticipate might occur at the ground surface over the next few hours? **1/6**\n",
        "\n",
        "* Surface (+ adjacent air/soil) will cool because $R_n$ is negative.\n",
        "\n",
        "* Dew/frost are are expected to occur.  As surface T_0 is just above 0 and RH = 100, with negative LE, Dew is probable to occur at first, but may transition to frost as the surface cools more.\n",
        "  * Should mention possibility of frost for full marks\n",
        "\n",
        "(@) Assuming heat storage fluxes ($\\Delta S$) are negligible; calculate $H$ approximate $H_g$.  You can assume that the laminar boundary layer for each site is exactly 0.1m thick. **1/4**\n"
      ],
      "id": "19d658df"
    },
    {
      "cell_type": "code",
      "metadata": {},
      "source": [
        "Ca = Constants.loc['Heat Capacity of Air','value']\n",
        "Profile['H'] = Ca*1e6*(Profile['$T_0$']-Profile['$Ta_{0.1}$'])/Profile['$r_b$']\n",
        "Profile['Hg'] = Profile['$R_n$']-Profile['$LE$']-Profile['H']\n",
        "Profile[['H','Hg']]"
      ],
      "id": "f7f88c81",
      "execution_count": null,
      "outputs": []
    },
    {
      "cell_type": "markdown",
      "metadata": {},
      "source": [
        "(@) Estimate thermal admittance ($\\mu$) of the soil surface and report any intermediary parameters you calculated to obtain these values. **1/4**\n"
      ],
      "id": "b2e25559"
    },
    {
      "cell_type": "code",
      "metadata": {},
      "source": [
        "Ca = Constants.loc['Heat Capacity of Air','value']\n",
        "Cm = Constants.loc['Heat Capacity of Mineral Soil','value']\n",
        "Co = Constants.loc['Heat Capacity of Organic Soil','value']\n",
        "Cw = Constants.loc['Heat Capacity of Water','value']\n",
        "Profile['k W m-1 K-1'] = -1*Profile['Hg']*(.1)/(Profile['$Ts_{0.1}$']-Profile['$T_0$'])\n",
        "Profile['C MJ m-3 K-1'] = (Profile['$\\Theta_o$']*Co+(100-Profile['Porosity']-Profile['$\\Theta_o$'])*Cm+Profile['$\\Theta_w$']*Cw+(Profile['Porosity']-Profile['$\\Theta_w$'])*Ca)*0.01\n",
        "Profile['mu kJ m-2 K-1 s-1/2'] = (Profile['k W m-1 K-1']*Profile['C MJ m-3 K-1'])**.5\n",
        "\n",
        "Profile[['C MJ m-3 K-1','k W m-1 K-1','mu kJ m-2 K-1 s-1/2']]"
      ],
      "id": "aee26636",
      "execution_count": null,
      "outputs": []
    },
    {
      "cell_type": "markdown",
      "metadata": {},
      "source": [
        "(@) On another day, the same initial conditions are observed at each of your sites: $R_n = 0 W m^{-2}$, $LE = 0 W m^{-2}$, and $Ta_{0.1} = -1 ^{\\circ}C$, $T_0 = 1 ^{\\circ}C$, and $Ts_{0.1} = 2 ^{\\circ}C$.  While the thermal properties of the soils that you estimated in the previous question have not changed.  You can assume that $R_n$, $LE$, and $Ta_{0.1}$ remain fixed at their initial values, but $T_0$ and $Ts_{0.1}$ will change.  It begins to snow heavily for 6 hours, and at the end of the snow-storm all three sites have experienced some amount of snow accumulation.  Assuming that no snow accumulated at each site until $T_0 < 0 ^{\\circ}C$ which site do you expect would have the most snow, and which would have the least snow at the end of the snow storm? Explain your reasoning.  *Note* you are not expected to specify how much snow accumulation will occur, just rank the sites in relative terms. **1/3**\n",
        "\n",
        "* $R_n$ and $LE$ are zero.  From the temperature gradients, we can assume $H$ will be positive slightly positive (soil surface losing heat to atmosphere) and $H_g$ will be negative soil at depth losing heat to soil surface.  However, we can't assume that $0 = H+H_G$ (same magnitude/opposite sign) in this case, because we have to account for another component of the energy balance, $\\Delta M$, that we did not have to think about in previously.  \n",
        "\n",
        "  * Given the outlined assumption (snow won't accumulate until $T_0 < 0 ^{\\circ} C$) the first soil to have $T_0$ < 0 will accumulate snow first.  Until then, snow will melt on the grounds surface until $T_0 < 0 ^{\\circ} C$.  The process of melting will remove heat from the soil as well $\\Delta M >0$; which means $0 = H + H_G + \\Delta_M$.\n",
        "\n",
        "* Snowfall accumulation is expected to be inversely related to to thermal admittance $\\mu$ because lower thermal admittance means surface cools rapidly (less heat transfer from depth).\n",
        "  * Thermal admittance does increase as a function of $\\Theta_w$, and the water input from melting will increase $\\mu$ slightly.  While the increase is not linear, since all soils have initial $\\Theta_w > 0.15$, its close enough to linear that one could reasonably assume a linear relationship.  The increases in $\\mu$ wouldn't be drastically different between soils anyway as they have fairly similar properties.\n",
        "  * Since $T_0$ is quite close to 0 C to start, there isn't much cooling that needs to be done before accumulation will occur.  So its reasonable to just look at the starting values of $\\mu$ and use those to guess the order of which will reach 0 C first.\n"
      ],
      "id": "ed331e15"
    },
    {
      "cell_type": "code",
      "metadata": {},
      "source": [
        "Ranked = Profile.sort_values(by='mu kJ m-2 K-1 s-1/2').reset_index()\n",
        "Markdown(tabulate(\n",
        "  Ranked,headers=Ranked.columns.values\n",
        "))"
      ],
      "id": "121d96d7",
      "execution_count": null,
      "outputs": []
    },
    {
      "cell_type": "markdown",
      "metadata": {},
      "source": [
        "## Short Answers\n",
        "\n",
        "\n",
        "(@) Briefly describe two ways in which a soil temperature wave changes with depth as it moves down in response to radiate forcing at the surface.  Which thermal property of soil that we discussed in lecture influences how the temperature wave will propagate through the soil?  All else equal, what happens if this property decreases?\n",
        "\n",
        "* The changes are described by the equation on [this slide](../Lectures/09.html#a-solution-of-fouriers-heat-conduction)\n",
        "  * Attenuation/damping (reduction in amplitude) with increasing depth (**1/3**)\n",
        "  * Phase shift (time offset) with increasing depth (**1/3**)\n",
        "* Thermal **diffusivity** ($K = \\frac{k}{C}$) is the property that controls it (as per the equation).  If K is higher > phase shift and attenuation are reduced (reduced attenuation would mean damping depth increases) (**1/3**)\n",
        "  + Thermal conductivity ($k$) or heat capacity ($C$) can be accepted (for partial marks).  However $K = \\frac{k}{C}$, so its not strictly controlled by either\n",
        "\n",
        "(@) Briefly explain what factors influence net short-wave SW* and net long-wave LW* radiation at the earth's surface?\n",
        "\n",
        "* [This slide](../Lectures/07.html#/component-fluxes) summarizes the important aspects:\n",
        "* $SW^*$ depends on:\n",
        "  + $SW\\downarrow$ > influenced by sun earth geometry (distance from sun, solar declination); beam spreading (latitude, time of day, and slope, should mention of cosine law of attenuation for full credit), along with atmospheric scattering & reflection (bulk transitivity).  **Only** sourced from the Sun (**1/4**)\n",
        "  + $SW\\uparrow$ > determined by albedo & magnitude of $SW\\downarrow$.  Albedo is determined by surface properties (e.g., presence of snow, vegetation health, soil type/moisture, etc.) and varies by sun angle (albedo is higher for lower sun angles).  For some \"surfaces\" (ice, water, etc.) it also depends on the transitivity of the volume.  Surface can absorb $SW\\downarrow$, but **cannot** emit it! (**1/4**)\n",
        "* $LW^*$ depends on:\n",
        "  + $LW\\downarrow$ > determined by the temperature and emissivity $\\epsilon$ of the atmosphere.  Warmer atmosphere = higher LW emissions; more emissive atmosphere = higher LW emissions.  Clouds are a good example: $LW\\downarrow$ tends to be higher (for equivalent surface temps/seasons) when clouds are present (**1/4**)\n",
        "  + $LW\\uparrow$ > determined by the temperature, emissivity $\\epsilon$, and **reflectivity** of the surface.  Warmer surface = higher LW emissions; more emissive surface = higher LW emissions.  Should mention that $\\epsilon = \\zeta$ (absorptivity) in the **long-wave** portion of the spectrum (Khirchoff's law).  Also influenced by surface albedo ($SW$): Lower albedo = higher SW absorption = warmer surface = higher LW emissions.(**1/4**)\n",
        "\n",
        "# Calculations\n"
      ],
      "id": "b4e73efb"
    },
    {
      "cell_type": "code",
      "metadata": {},
      "source": [
        "import numpy as np\n",
        "import pandas as pd\n",
        "seed = 42\n",
        "N = 4\n",
        "np.random.seed(seed)\n",
        "epsilon = np.round(np.random.rand(N)*.075+.9,3)\n",
        "np.random.seed(seed)\n",
        "LW = np.round(np.random.rand(N)*20+100)"
      ],
      "id": "b114de23",
      "execution_count": null,
      "outputs": []
    },
    {
      "cell_type": "markdown",
      "metadata": {},
      "source": [
        "(@) Assuming that a surface has an emissivity ($\\epsilon_{o,LW}$) of `{python} epsilon`, how much of the incoming long-wave radiation $LW\\downarrow$ is reflected from the surface when $LW\\downarrow$ is `{python} LW` $W m^{-2}$?\n"
      ],
      "id": "53b6fce2"
    },
    {
      "cell_type": "code",
      "metadata": {},
      "source": [
        "a=epsilon\n",
        "alpha = 1-a \n",
        "print('alpha = ', alpha)\n",
        "print('LW_reflected = ',LW*alpha)"
      ],
      "id": "a1fe0768",
      "execution_count": null,
      "outputs": []
    },
    {
      "cell_type": "code",
      "metadata": {},
      "source": [
        "Dates = pd.DatetimeIndex(['2024-12-15','2024-03-31','2024-07-20','2024-10-01'])\n",
        "Psi_a = np.array([0.85,0.7,0.65,0.8])\n",
        "np.random.seed(seed)\n",
        "Lat = np.array([np.random.randint(20,80) for i in range(0,4)])"
      ],
      "id": "84a4512c",
      "execution_count": null,
      "outputs": []
    },
    {
      "cell_type": "markdown",
      "metadata": {},
      "source": [
        "(@) At Local solar noon (LAT = 12:00) on `{python} Dates` at `{python} Lat` $^{\\circ}$ N, $\\Psi_a$ = `{python} Psi_a`.  Estimate $SW\\downarrow$ \n"
      ],
      "id": "be0ffa33"
    },
    {
      "cell_type": "code",
      "metadata": {},
      "source": [
        "def Extraterrestrial_Irradiance(DOY,Lat):\n",
        "    I0 = 1361\n",
        "    gamma = 2*np.pi/365*(DOY-1)\n",
        "    print('gamma ',gamma)\n",
        "    delta = 0.006918 - 0.399912 * np.cos(gamma)+0.070257 *np.sin(gamma)-0.006758 *np.cos(2*gamma) + 0.000907*np.sin(2*gamma)-0.002697*np.cos(3*gamma)+0.00148 *np.sin(3*gamma)\n",
        "    print('delta = ',delta)\n",
        "    print('delta deg = ',delta*180/np.pi)\n",
        "    Z = np.arccos(np.sin(Lat*np.pi/180)*np.sin(delta)+np.cos(Lat*np.pi/180)*np.cos(delta))*180/np.pi\n",
        "    print('z = ',Z)\n",
        "    R_av_Rsq = 1.00011+0.034221*np.cos(gamma)+0.001280*np.sin(gamma)+0.000819*np.cos(2*gamma)+0.000077*np.sin(2*gamma)\n",
        "    print('R_av_Rsq = ',R_av_Rsq)\n",
        "    I_ex=I0*R_av_Rsq*np.cos(Z*np.pi/180)\n",
        "    print('I_ex = ',I_ex)\n",
        "    return(delta,Z,I_ex)\n",
        "\n",
        "print('DOY:',Dates.dayofyear.values)\n",
        "delta,Z,I_ex = Extraterrestrial_Irradiance(Dates.dayofyear.values,Lat)\n",
        "SW = I_ex*Psi_a**(1/np.cos(Z*np.pi/180))\n",
        "print('SW incoming ',np.round(SW,2))"
      ],
      "id": "757bbeaf",
      "execution_count": null,
      "outputs": []
    }
  ],
  "metadata": {
    "kernelspec": {
      "name": "python3",
      "language": "python",
      "display_name": "Python 3 (ipykernel)"
    }
  },
  "nbformat": 4,
  "nbformat_minor": 5
}