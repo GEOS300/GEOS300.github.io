{
 "cells": [
  {
   "cell_type": "raw",
   "id": "afe4b6e6",
   "metadata": {},
   "source": [
    "---\n",
    "title: Final Exam\n",
    "keep-ipynb: true\n",
    "---"
   ]
  },
  {
   "cell_type": "markdown",
   "id": "0aea2bb0",
   "metadata": {},
   "source": [
    "# Written Portion\n",
    "\n",
    "## Problem Question\n"
   ]
  },
  {
   "cell_type": "code",
   "execution_count": 1,
   "id": "tbl-Constants",
   "metadata": {},
   "outputs": [
    {
     "data": {
      "text/markdown": [
       "Constant                       Symbol          Value  Units\n",
       "-----------------------------  --------  -----------  ---------------------------\n",
       "Heat Capacity of Air           $C_a$        0.001     $MJ m^{-3} K^{-1}$\n",
       "Heat Capacity of Water         $C_w$        4.2       $MJ m^{-3} K^{-1}$\n",
       "Heat Capacity of Organic Soil  $C_o$        2.5       $MJ m^{-3} K^{-1}$\n",
       "Heat Capacity of Mineral Soil  $C_a$        2         $MJ m^{-3} K^{-1}$\n",
       "Solar Constant                 $I_0$     1361         $W m^{-2}$\n",
       "Ideal Gas Constant             $R$          8.31446   $Pa\\ m^3\\ mol^{-1} K ^{-1}$\n",
       "Molar Mass of Air              $M$          0.028964  $kg mol^{-1}$\n",
       "Dry Adiabatic Lapse Rate       $DALR$       0.01      $K m^{-1}$"
      ],
      "text/plain": [
       "<IPython.core.display.Markdown object>"
      ]
     },
     "execution_count": 37,
     "metadata": {},
     "output_type": "execute_result"
    }
   ],
   "source": [
    "#| echo: false\n",
    "#| label: tbl-Constants\n",
    "#| tbl-cap: You may assume these values for the following constants wherever necessary.\n",
    "\n",
    "import matplotlib.pyplot as plt\n",
    "import numpy as np\n",
    "import pandas as pd\n",
    "from IPython.display import Markdown\n",
    "from tabulate import tabulate\n",
    "\n",
    "\n",
    "Constants = {\n",
    "    'Heat Capacity of Air':{'value':0.001,'unit':'$MJ m^{-3} K^{-1}$','Symbol':'$C_a$'},\n",
    "    'Heat Capacity of Water':{'value':4.2,'unit':'$MJ m^{-3} K^{-1}$','Symbol':'$C_w$'},\n",
    "    'Heat Capacity of Organic Soil':{'value':2.5,'unit':'$MJ m^{-3} K^{-1}$','Symbol':'$C_o$'},\n",
    "    'Heat Capacity of Mineral Soil':{'value':2.0,'unit':'$MJ m^{-3} K^{-1}$','Symbol':'$C_a$'},\n",
    "    'Solar Constant':{'value':1361,'unit':'$W m^{-2}$','Symbol':'$I_0$'},\n",
    "    'Ideal Gas Constant': {'value': 8.31446261815324, 'unit': '$Pa\\ m^3\\ mol^{-1} K ^{-1}$','Symbol':'$R$'},\n",
    "    'Molar Mass of Air': {'value': 0.028964, 'unit': '$kg mol^{-1}$','Symbol':'$M$'},\n",
    "    'Dry Adiabatic Lapse Rate':{'value':0.01, 'unit': '$K m^{-1}$','Symbol':'$DALR$'}\n",
    "}\n",
    "\n",
    "Constants = pd.DataFrame(Constants).T[['Symbol','value','unit']]\n",
    "\n",
    "Markdown(tabulate(\n",
    "  Constants,headers=['Constant','Symbol','Value','Units']\n",
    "))"
   ]
  },
  {
   "cell_type": "code",
   "execution_count": 2,
   "id": "tbl-Symbols",
   "metadata": {},
   "outputs": [
    {
     "data": {
      "text/markdown": [
       "Symbol          Name                                                        Units\n",
       "--------------  ----------------------------------------------------------  -----------------------\n",
       "$R_n$           Net Radiation                                               $W m^{-2}$\n",
       "$LE$            Latent Heat Flux                                            $W m^{-2}$\n",
       "$H$             Sensible Heat Flux                                          $W m^{-2}$\n",
       "$H_g$           Ground Heat Flux                                            $W m^{-2}$\n",
       "$Ta_z$          Air Temperature at the Height (z in m) Above the Surface    $^{\\circ}C$\n",
       "$RH_z$          Relative Humidity at the Height (z in m) Above the Surface  %\n",
       "$T_0$           Temperature at the Ground Surface                           $^{\\circ}C$\n",
       "$Ts_z$          Air Temperature at the Depth (z in m) Below the Surface     $^{\\circ}C$\n",
       "$\\Theta_o$      Volumetric Fraction of Organic Matter                       %\n",
       "$\\Theta_w$      Volumetric Fraction of Liquid Fresh Water                   %\n",
       "$P_a$           Air Pressure                                                $kPa$\n",
       "$rho_a$         Density of Air                                              $g m^{-3}$\n",
       "$rho_v$         Partial Density of Water Vapor (aka. Absolute Humidity)     $g m^{-3}$\n",
       "$L_v$           Latent heat of vaporization                                 $J g^{-1}$\n",
       "$Fc$            Carbon Dioxide Flux                                         $\\mu mol m^{-2} s^{-1}$\n",
       "$\\overline{u}$  Mean Wind Speed                                             $m s^{-1}$"
      ],
      "text/plain": [
       "<IPython.core.display.Markdown object>"
      ]
     },
     "execution_count": 38,
     "metadata": {},
     "output_type": "execute_result"
    }
   ],
   "source": [
    "#| echo: false\n",
    "#| label: tbl-Symbols\n",
    "#| tbl-cap: Definitions of selected symbols.\n",
    "\n",
    "Symbols = {\n",
    "    '$R_n$':{'name':'Net Radiation','unit':'$W m^{-2}$'},\n",
    "    '$LE$':{'name':'Latent Heat Flux','unit':'$W m^{-2}$'},\n",
    "    '$H$':{'name':'Sensible Heat Flux','unit':'$W m^{-2}$'},\n",
    "    '$H_g$':{'name':'Ground Heat Flux','unit':'$W m^{-2}$'},\n",
    "    '$Ta_z$':{'name':'Air Temperature at the Height (z in m) Above the Surface','unit':'$^{\\circ}C$'},\n",
    "    '$RH_z$':{'name':'Relative Humidity at the Height (z in m) Above the Surface','unit':'%'},\n",
    "    '$T_0$':{'name':'Temperature at the Ground Surface','unit':'$^{\\circ}C$'},\n",
    "    '$Ts_z$':{'name':'Air Temperature at the Depth (z in m) Below the Surface','unit':'$^{\\circ}C$'},\n",
    "    '$\\Theta_o$':{'name':'Volumetric Fraction of Organic Matter','unit':'%'},\n",
    "    '$\\Theta_w$':{'name':'Volumetric Fraction of Liquid Fresh Water','unit':'%'},\n",
    "    '$P_a$':{'name':'Air Pressure','unit':'$kPa$'},\n",
    "    '$rho_a$':{'name':'Density of Air','unit':'$g m^{-3}$'},\n",
    "    '$rho_v$':{'name':'Partial Density of Water Vapor (aka. Absolute Humidity)','unit':'$g m^{-3}$'},\n",
    "    '$L_v$':{'name':'Latent heat of vaporization','unit':'$J g^{-1}$'},\n",
    "    '$Fc$':{'name':'Carbon Dioxide Flux','unit':'$\\mu mol m^{-2} s^{-1}$'},\n",
    "    '$\\overline{u}$':{'name':'Mean Wind Speed','unit':'$m s^{-1}$'},\n",
    "}\n",
    "\n",
    "df = pd.DataFrame(Symbols).T[['name','unit']]\n",
    "\n",
    "Markdown(tabulate(\n",
    "  df,headers=['Symbol','Name','Units']\n",
    "))"
   ]
  },
  {
   "cell_type": "code",
   "execution_count": 3,
   "id": "tbl-data",
   "metadata": {},
   "outputs": [
    {
     "data": {
      "text/markdown": [
       "  DOY    $R_n$    $LE$    $H$    $Ta_{2.0}$    $Ta_{0.2}$    $RH_{2.0}$     Fc    $\\overline{u}_{2.0}$\n",
       "-----  -------  ------  -----  ------------  ------------  ------------  -----  ----------------------\n",
       "  150      665     284    214          25.1          27.1          56.5  -0.94                    0.11\n",
       "  151      690     299    229          25.3          27.4          59    -0.84                    0.14\n",
       "  152      668     286    216          25.1          27.2          56.8  -0.93                    0.12\n",
       "  153      689     299    229          25.3          27.4          58.9  -0.84                    0.14\n",
       "  154      678     292    222          25.2          27.3          57.8  -0.89                    0.13\n",
       "  155      663     283    213          25.1          27.1          56.3  -0.95                    0.11\n",
       "  235      615     134    324          20.1          22.1          46.5   1.06                    0.31\n",
       "  236      640     149    339          20.2          22.3          49     1.16                    0.34\n",
       "  237      618     136    326          20.1          22.1          46.8   1.07                    0.32\n",
       "  238      639     149    339          20.2          22.3          48.9   1.16                    0.34\n",
       "  239      628     142    332          20.2          22.2          47.8   1.11                    0.33\n",
       "  240      613     133    323          20.1          22.1          46.3   1.05                    0.31"
      ],
      "text/plain": [
       "<IPython.core.display.Markdown object>"
      ]
     },
     "execution_count": 39,
     "metadata": {},
     "output_type": "execute_result"
    }
   ],
   "source": [
    "#| echo: false\n",
    "#| label: tbl-data\n",
    "#| tbl-cap: 'Data from Burns Bog. Each observation was averaged over one half hour, between 12:30-13:00 under clear sky conditions on the specified day of the year (DOY).  Sensible and latent heat fluxes were estimated using EC sensors mounted at $z = 2$ m above the ground.  You can assume that the observations were collected during an average year, where temperature and precipitation conditions were preceding the observations were typical for the season (e.g., not abnormally hot/cold and not anomalously wet/dry).'\n",
    "\n",
    "\n",
    "def pmute(N,u=0,range=1,resolution = 1,i=0):\n",
    "    seed=69\n",
    "    np.random.seed(seed+i)\n",
    "    A = (np.random.rand(N)*range)+u\n",
    "    return(np.round(A,resolution))\n",
    "\n",
    "N = 6\n",
    "DALR = 0.01\n",
    "\n",
    "Profile = pd.DataFrame({\n",
    "    'DOY':list(range(150,150+N)),\n",
    "    '$R_n$':pmute(N,650,50,0),\n",
    "    '$LE$':pmute(N,275,30,0),\n",
    "    '$H$':pmute(N,205,30,0),\n",
    "    '$Ta_{2.0}$':pmute(N,25,.4),# (0.1 m above surface)\n",
    "    '$Ta_{0.2}$':pmute(N,27,.5),# (0.1 m above surface)\n",
    "    '$RH_{2.0}$':pmute(N,55,5),# (0.1 m above surface)\n",
    "    'Fc':pmute(N,-1,.2,2),# (0.1 m above surface)\n",
    "    '$\\overline{u}_{2.0}$':pmute(N,.1,.05,2)\n",
    "    },index=list(map(chr, range(65,65+N))))\n",
    "\n",
    "Profile2 = pd.DataFrame({\n",
    "    'DOY':list(range(235,235+N)),\n",
    "    '$R_n$':pmute(N,600,50,0),\n",
    "    '$LE$':pmute(N,125,30,0),\n",
    "    '$H$':pmute(N,315,30,0),\n",
    "    '$Ta_{2.0}$':pmute(N,20,.3),# (0.1 m above surface)\n",
    "    '$Ta_{0.2}$':pmute(N,22,.4),# (0.1 m above surface)\n",
    "    '$RH_{2.0}$':pmute(N,45,5),# (0.1 m above surface)\n",
    "    'Fc':pmute(N,1,.2,2),# (0.1 m above surface)\n",
    "    '$\\overline{u}_{2.0}$':pmute(N,.3,.05,2)\n",
    "    },index=list(map(chr, range(65,65+N))))\n",
    "\n",
    "Profile = pd.concat([Profile,Profile2])\n",
    "\n",
    "# Profile['Theta_a2'] = Profile['$Ta_{2.0}$']+2*DALR\n",
    "# Profile['Theta_a0.2'] = Profile['$Ta_{0.2}$']+0.2*DALR\n",
    "# Profile['DTheta_a'] = (Profile['Theta_a2']-Profile['Theta_a0.2'])/1.8\n",
    "# Profile['K_H'] = Profile['$H$']/(-0.001*1e6*Profile['DTheta_a'])\n",
    "\n",
    "# Profile['G'] = Profile['$R_n$']-(Profile['$LE$']+Profile['$H$'])\n",
    "\n",
    "Markdown(tabulate(\n",
    "  Profile.values,headers=Profile.columns.values\n",
    "))"
   ]
  },
  {
   "cell_type": "markdown",
   "id": "7e321ee6",
   "metadata": {},
   "source": [
    "You have randomly been assigned observations of conditions from Burns Bog, on two separate days which listed in @tbl-data.  \n",
    "\n",
    "(@) Given the conditions for both of your assigned observations, do you expect the stable, neutral, or unstable atmospheric conditions? Why?  \n",
    "\n",
    "(@) Calculate the eddy diffusivity of sensible heat flux for both of your assigned observations.\n",
    "\n",
    "(@) Calculate $\\overline{w^{\\prime}\\rho_v^{\\prime}}$ for both of your assigned observations.\n",
    "\n",
    "(@) Calculate the total mass of $CO_2$ uptake/emission (in $\\rm{mg \\ m}^{-2}$) over both of your assigned observations.  Was the site was a source or sink for atmospheric $CO_2$ during each period?  Speculate on which component of the carbon balance (Ecosystem Respiration or Gross Primary Productivity) was greater for each period.\n",
    "\n",
    "(@) Estimate the magnitude of ground heat flux ($H_g$) for both of your assigned observations.  You can assume that any storage terms not listed in the table are negligible.\n",
    "\n",
    "(@) Calculate the Bowen Ratio ($\\beta$) for both of your assigned observations.  Discuss what the difference in $\\beta$ between your two days means, and speculate on the underlying reason for the difference between the two observations.  For context, you can refer to the image below, which shows a 30-year climate normals for a near-by site.\n"
   ]
  },
  {
   "cell_type": "code",
   "execution_count": 4,
   "id": "fig-data",
   "metadata": {},
   "outputs": [
    {
     "data": {
      "text/plain": [
       "Text(0.5, 1.0, 'Average Monthly Precipitation at Vancouver International Airport')"
      ]
     },
     "execution_count": 40,
     "metadata": {},
     "output_type": "execute_result"
    },
    {
     "data": {
      "image/png": "[encoded data removed]",
      "text/plain": [
       "<Figure size 672x480 with 1 Axes>"
      ]
     },
     "metadata": {
      "image/png": {
       "height": 449,
       "width": 593
      }
     },
     "output_type": "display_data"
    }
   ],
   "source": [
    "#| echo: false\n",
    "#| label: fig-data\n",
    "#| fig-cap: 'Climate information from the Vancouver International Airport, which is approximately 15km north-west of Burns Bog.'\n",
    "\n",
    "Rainfall=[157.5,\t98.9,\t111.8,\t88.1,\t65,\t53.8,\t35.6,\t36.7,\t50.9,\t120.7,\t185.8,\t148.3]\n",
    "Month = list(range(1,13))\n",
    "plt.figure()\n",
    "plt.bar(Month,Rainfall)\n",
    "plt.xlabel('Month')\n",
    "plt.ylabel('Total Precipitation (mm)')\n",
    "plt.title('Average Monthly Precipitation at Vancouver International Airport')"
   ]
  },
  {
   "cell_type": "markdown",
   "id": "308c81d6",
   "metadata": {},
   "source": [
    "## Short Answers\n",
    "\n",
    "\n",
    "(@) Briefly explain the concept of Reynolds decomposition?  Then use it to calculate the $\\overline{u^{\\prime}w^{\\prime}}$ and $u_*$ for the following data set\n"
   ]
  },
  {
   "cell_type": "code",
   "execution_count": 5,
   "id": "tbl-data2",
   "metadata": {},
   "outputs": [
    {
     "data": {
      "text/markdown": [
       "  $u_a$    $w_a$    $u_b$    $w_b$    $u_c$    $w_c$    $u_d$    $w_d$\n",
       "-------  -------  -------  -------  -------  -------  -------  -------\n",
       "   1        0         2        0       3        0           4      0\n",
       "   0        0.1       0        0.2     0        0.3         0      0.4\n",
       "   1        0         2        0       3        0           4      0\n",
       "   2       -0.1       4       -0.2     6       -0.3         8     -0.4\n",
       "   1        0         2        0       3        0           4      0\n",
       "   0        0         0        0       0        0           0      0\n",
       "   0.5     -0.25      1       -0.5     1.5     -0.75        2     -1\n",
       "   1.25     0.25      2.5      0.5     3.75     0.75        5      1"
      ],
      "text/plain": [
       "<IPython.core.display.Markdown object>"
      ]
     },
     "execution_count": 41,
     "metadata": {},
     "output_type": "execute_result"
    }
   ],
   "source": [
    "#| echo: false\n",
    "#| label: tbl-data2\n",
    "#| tbl-cap: Sample of .\n",
    "\n",
    "\n",
    "u = np.array([1.0,0.0,1.0,2.0,1.0,0.0,0.50,1.25])\n",
    "w = np.array([0.0,0.1,0.0,-.1,0.0,0.0,-.25,0.25])\n",
    "\n",
    "df = pd.DataFrame(data={'$u_a$':u,'$w_a$':w})\n",
    "\n",
    "df['$u_b$'] = df['$u_a$']*2\n",
    "df['$w_b$'] = df['$w_a$']*2\n",
    "\n",
    "df['$u_c$'] = df['$u_a$']*3\n",
    "df['$w_c$'] = df['$w_a$']*3\n",
    "\n",
    "df['$u_d$'] = df['$u_a$']*4\n",
    "df['$w_d$'] = df['$w_a$']*4\n",
    "\n",
    "# u_prime = u-u.mean()\n",
    "# w_prime = w-w.mean()\n",
    "# print((u_prime*w_prime).mean())\n",
    "# print((-(u_prime*w_prime).mean())**.5)\n",
    "\n",
    "\n",
    "Markdown(tabulate(\n",
    "  df.values,headers=df.columns.values\n",
    "))\n",
    "\n",
    "\n",
    "\n",
    "# u = np.array([1.0,0.0,1.0,2.0,1.0,0.0,0.50,1.25])*2\n",
    "# w = np.array([0.0,0.1,0.0,-.1,0.0,0.0,-.25,0.25])\n",
    "\n",
    "# df = pd.DataFrame(data={'$u_a$':u_a,'$w_a$':w_a,'$u_b$':u_b,'$w_b$':w_b,'$u_c$':u_c,'$w_c$':w_c})\n",
    "\n",
    "# u_prime = u-u.mean()\n",
    "# w_prime = w-w.mean()\n",
    "# print((u_prime*w_prime).mean())\n",
    "# print((-(u_prime*w_prime).mean())**.5)\n",
    "\n",
    "\n",
    "# Markdown(tabulate(\n",
    "#   df.values,headers=df.columns.values\n",
    "# ))"
   ]
  },
  {
   "cell_type": "markdown",
   "id": "7b86f953",
   "metadata": {},
   "source": [
    "(@) Briefly explain what factors influence evapotranspiration from a vegetated surface?\n",
    "\n",
    "(@) Briefly explain what factors influence net all-wave radiation ($R_n$) at the earth's surface?\n",
    "\n",
    "<!-- * [This slide](../Lectures/07.html#/component-fluxes) summarizes the important aspects:\n",
    "* $SW^*$ depends on:\n",
    "  + $SW\\downarrow$ > influenced by sun earth geometry (distance from sun, solar declination); beam spreading (latitude, time of day, and slope, should mention of cosine law of attenuation for full credit), along with atmospheric scattering & reflection (bulk transitivity).  **Only** sourced from the Sun (**1/4**)\n",
    "  + $SW\\uparrow$ > determined by albedo & magnitude of $SW\\downarrow$.  Albedo is determined by surface properties (e.g., presence of snow, vegetation health, soil type/moisture, etc.) and varies by sun angle (albedo is higher for lower sun angles).  For some \"surfaces\" (ice, water, etc.) it also depends on the transitivity of the volume.  Surface can absorb $SW\\downarrow$, but **cannot** emit it! (**1/4**)\n",
    "* $LW^*$ depends on:\n",
    "  + $LW\\downarrow$ > determined by the temperature and emissivity $\\epsilon$ of the atmosphere.  Warmer atmosphere = higher LW emissions; more emissive atmosphere = higher LW emissions.  Clouds are a good example: $LW\\downarrow$ tends to be higher (for equivalent surface temps/seasons) when clouds are present (**1/4**)\n",
    "  + $LW\\uparrow$ > determined by the temperature, emissivity $\\epsilon$, and **reflectivity** of the surface.  Warmer surface = higher LW emissions; more emissive surface = higher LW emissions.  Should mention that $\\epsilon = \\zeta$ (absorptivity) in the **long-wave** portion of the spectrum (Khirchoff's law).  Also influenced by surface albedo ($SW$): Lower albedo = higher SW absorption = warmer surface = higher LW emissions.(**1/4**) -->\n",
    "\n",
    "# Fill in the blanks\n",
    "\n",
    "(@) Negative sensible heat flux is more likely to occur during the _____ than during the _____.\n",
    "\n",
    "(@) Positive _____ heat flux indicates that _____ is occurring at the surface.\n",
    "\n",
    "(@) A(n) _____ process is on where temperature changes due to compression/expansion of a gas, ____ the exchange of energy with the surrounding environment.\n",
    "\n",
    "(@) For any given soil, it's _____ increases linearly as a function of volumetric _____ content.\n",
    "\n",
    "# Multiple Choice\n",
    "\n",
    "(@) A temperature inversion in the atmosphere near the Earth's surface would result in\n",
    "\n",
    "* Negative (downward) sensible heat flux\n",
    "* Positive (downward) sensible heat flux\n",
    "* Positive (upward) sensible heat flux\n",
    "* Suppression of turbulence\n",
    "* Production of turbulence\n",
    "\n",
    "(@) This is the time of year when the earth is closest to the sun\n",
    "\n",
    "* Perihelion\n",
    "* Aphelion\n",
    "* Summer Solstice\n",
    "* Winter Solstice\n",
    "* Every day, Earth is always the same distance from the sun\n",
    "\n",
    "(@) Obukhov length ($L$) is a measure of atmospheric:\n",
    "\n",
    "* Humidity\n",
    "* Stability\n",
    "* Temperature\n",
    "* Kinetic Energy\n",
    "* Energy Density\n",
    "\n",
    "(@) Which surface would you expect to have the greatest aerodynamic roughness length ($z_0$)\n",
    "\n",
    "* Ice\n",
    "* Water\n",
    "* Bare Soil\n",
    "* Grassland\n",
    "* Forest\n",
    "\n",
    "(@) Which of the following locations would you expect to have the highest average latent heat flux over an entire year?\n",
    "\n",
    "* At the Equator in the Pacific Ocean\n",
    "* Sahara Desert\n",
    "* An irrigated cotton farm in California\n",
    "* Lake Superior\n",
    "* A temperate rain forest in British Columbia\n",
    "\n",
    "(@) This type of flow most common on calm, clear nights with weak winds\n",
    "\n",
    "* Laminar\n",
    "* Adiabatic\n",
    "* Turbulent\n",
    "* Kinetic\n",
    "* Stable\n",
    "\n",
    "(@) Mechanical turbulence increases with increasing:\n",
    "\n",
    "* Mean wind speeds\n",
    "* Height above the surface\n",
    "* Latent heat flux\n",
    "* Surface roughness\n",
    "* Ground heat flux\n",
    "\n",
    "# True/False\n",
    "\n",
    "(@) Positive ground heat flux ($H_g$) indicates that heat energy is moving from the soil into the atmosphere.\n",
    "\n",
    "(@) Days with strong winds and high sensible heat flux are the optimal conditions for producing wind power.\n",
    "\n",
    "* True\n",
    "* False\n",
    "\n",
    "(@) Typically, on a hot and sunny day in mid-summer, we expect $\\overline{w}>0 \\ \\rm{m s}^{-1}$\n",
    "\n",
    "* True\n",
    "* False\n",
    "\n",
    "(@) $NPP \\approx -NEE$, therefore NEE and NPP are synonymous.\n",
    "\n",
    "* True\n",
    "* False\n",
    "\n",
    "(@) Soil temperatures tend to become more variable with increasing depth.\n",
    "\n",
    "* True\n",
    "* False\n",
    "\n",
    "(@) Select true for 5 free points:\n",
    "\n",
    "* True\n",
    "* False\n",
    "\n",
    "# Calculations\n"
   ]
  },
  {
   "cell_type": "code",
   "execution_count": 6,
   "id": "5ddb978b",
   "metadata": {},
   "outputs": [],
   "source": [
    "import numpy as np\n",
    "import pandas as pd\n",
    "seed = 69\n",
    "N = 3\n",
    "np.random.seed(seed)\n",
    "\n",
    "SW_in = np.round(np.random.rand(N)*375)\n",
    "Albedo = np.round(np.random.rand(N)*.9,3)\n",
    "# SW_out = np.round(np.random.rand(N)*125,3)\n",
    "\n",
    "epsilon = np.round(np.random.rand(N)*.065+.9,3)\n",
    "np.random.seed(seed)\n",
    "LW_in = np.round(np.random.rand(N)*20+100)"
   ]
  },
  {
   "cell_type": "markdown",
   "id": "fc56657e",
   "metadata": {
    "user_expressions": [
     {
      "expression": "SW_in",
      "result": {
       "data": {
        "text/plain": "array([111., 303., 131.])"
       },
       "metadata": {},
       "status": "ok"
      }
     },
     {
      "expression": "LW_in",
      "result": {
       "data": {
        "text/plain": "array([106., 116., 107.])"
       },
       "metadata": {},
       "status": "ok"
      }
     },
     {
      "expression": "Albedo",
      "result": {
       "data": {
        "text/plain": "array([0.71 , 0.505, 0.228])"
       },
       "metadata": {},
       "status": "ok"
      }
     },
     {
      "expression": "epsilon",
      "result": {
       "data": {
        "text/plain": "array([0.907, 0.904, 0.944])"
       },
       "metadata": {},
       "status": "ok"
      }
     }
    ]
   },
   "source": [
    "(@) Given $SW_\\downarrow$ of `{python} SW_in` and $LW\\downarrow$ is `{python} LW_in` $W m^{-2}$, with a surface albedo $\\alpha$ of `{python} Albedo` and a surface emissivity ($\\epsilon_{o,LW}$) of `{python} epsilon`, estimate net radiation $R_n$?\n"
   ]
  },
  {
   "cell_type": "code",
   "execution_count": 7,
   "id": "9d6337c1",
   "metadata": {},
   "outputs": [
    {
     "name": "stdout",
     "output_type": "stream",
     "text": [
      "alpha =  [0.093 0.096 0.056]\n",
      "[196.819 378.776 224.672]\n"
     ]
    }
   ],
   "source": [
    "a=epsilon\n",
    "alpha = 1-a \n",
    "print('alpha = ', alpha)\n",
    "LW_out = LW_in*alpha\n",
    "SW_out = SW_in*alpha\n",
    "R_n = SW_in-SW_out+LW_in-LW_out\n",
    "print(R_n)"
   ]
  },
  {
   "cell_type": "code",
   "execution_count": 8,
   "id": "c3fe094b",
   "metadata": {},
   "outputs": [
    {
     "name": "stdout",
     "output_type": "stream",
     "text": [
      "1412.9 kW\n"
     ]
    }
   ],
   "source": [
    "import numpy as np\n",
    "k = 0.41\n",
    "R = 40 # m\n",
    "E = 0.35 # %\n",
    "z = 100 # m\n",
    "z0 = 0.25 # m\n",
    "u_star = 0.75 # m/s\n",
    "rho = 1.22 # kg m-3\n",
    "\n",
    "u_bar = u_star/k*np.log(z/z0)\n",
    "\n",
    "U = np.pi/2*rho*E*(R**2)*(u_bar**3)\n",
    "\n",
    "print(f'{U*1e-3:.1f} kW')"
   ]
  },
  {
   "cell_type": "markdown",
   "id": "e2576146",
   "metadata": {
    "user_expressions": [
     {
      "expression": "R",
      "result": {
       "data": {
        "text/plain": "40"
       },
       "metadata": {},
       "status": "ok"
      }
     },
     {
      "expression": "z",
      "result": {
       "data": {
        "text/plain": "100"
       },
       "metadata": {},
       "status": "ok"
      }
     },
     {
      "expression": "E",
      "result": {
       "data": {
        "text/plain": "0.35"
       },
       "metadata": {},
       "status": "ok"
      }
     },
     {
      "expression": "u_star",
      "result": {
       "data": {
        "text/plain": "0.75"
       },
       "metadata": {},
       "status": "ok"
      }
     },
     {
      "expression": "z0",
      "result": {
       "data": {
        "text/plain": "0.25"
       },
       "metadata": {},
       "status": "ok"
      }
     },
     {
      "expression": "rho",
      "result": {
       "data": {
        "text/plain": "1.22"
       },
       "metadata": {},
       "status": "ok"
      }
     }
    ]
   },
   "source": [
    "(@) Estimate the power generation (in kilowatts) of a wind turbine with R = `{python} R` m, z = `{python} z` m and E = `{python} E`% under the following conditions: Neutral stability, $u_∗$ = `{python} u_star` m/s, z0 = `{python} z0` m, $\\rho$ = `{python} rho` $\\rm{kg m^{-3}}$.\n"
   ]
  },
  {
   "cell_type": "code",
   "execution_count": 9,
   "id": "a2c69838",
   "metadata": {},
   "outputs": [
    {
     "name": "stdout",
     "output_type": "stream",
     "text": [
      "693.1 kW\n"
     ]
    }
   ],
   "source": [
    "import numpy as np\n",
    "k = 0.41\n",
    "R = 25 # m\n",
    "E = 0.35 # %\n",
    "z = 60 # m\n",
    "z0 = 0.2 # m\n",
    "u_star = 0.85 # m/s\n",
    "rho = 1.22 # kg m-3\n",
    "\n",
    "u_bar = u_star/k*np.log(z/z0)\n",
    "\n",
    "U = np.pi/2*rho*E*(R**2)*(u_bar**3)\n",
    "\n",
    "print(f'{U*1e-3:.1f} kW')"
   ]
  },
  {
   "cell_type": "markdown",
   "id": "41e353ca",
   "metadata": {
    "user_expressions": [
     {
      "expression": "R",
      "result": {
       "data": {
        "text/plain": "25"
       },
       "metadata": {},
       "status": "ok"
      }
     },
     {
      "expression": "z",
      "result": {
       "data": {
        "text/plain": "60"
       },
       "metadata": {},
       "status": "ok"
      }
     },
     {
      "expression": "E",
      "result": {
       "data": {
        "text/plain": "0.35"
       },
       "metadata": {},
       "status": "ok"
      }
     },
     {
      "expression": "u_star",
      "result": {
       "data": {
        "text/plain": "0.85"
       },
       "metadata": {},
       "status": "ok"
      }
     },
     {
      "expression": "z0",
      "result": {
       "data": {
        "text/plain": "0.2"
       },
       "metadata": {},
       "status": "ok"
      }
     },
     {
      "expression": "rho",
      "result": {
       "data": {
        "text/plain": "1.22"
       },
       "metadata": {},
       "status": "ok"
      }
     }
    ]
   },
   "source": [
    "(@) Estimate the power generation (in kilowatts) of a wind turbine with R = `{python} R` m, z = `{python} z` m and E = `{python} E`% under the following conditions: Neutral stability, $u_∗$ = `{python} u_star` m/s, z0 = `{python} z0` m, $\\rho$ = `{python} rho` $\\rm{kg m^{-3}}$."
   ]
  }
 ],
 "metadata": {
  "kernelspec": {
   "display_name": "Python 3 (ipykernel)",
   "language": "python",
   "name": "python3"
  }
 },
 "nbformat": 4,
 "nbformat_minor": 5
}
