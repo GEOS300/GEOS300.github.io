{
  "cells": [
    {
      "cell_type": "raw",
      "metadata": {},
      "source": [
        "---\n",
        "title: Assignment 4\n",
        "subtitle: 'GEOS 300, 2024'\n",
        "execute:\n",
        "  keep-ipynb: true\n",
        "echo: false\n",
        "---"
      ],
      "id": "743b3688"
    },
    {
      "cell_type": "markdown",
      "metadata": {},
      "source": [
        "See the [Answer Key Here](https://github.com/GEOS300/Assignment_04Key)\n",
        "\n",
        "\n",
        "There is no template for this assignment, you can use a .ipynb or .Rmd file from one of your previous assignments as a template to get started.\n",
        "\n",
        "\n",
        "## Instructions\n",
        "\n",
        "It is strongly recommended that you complete the assignment in Python or R, although you can complete it in excel/numbers if necessary.  They will download the data for you and get you started with a few blocks of code to make plots and tables.  If you are electing to complete the lab in excel, you can find all the relevant data files here [here](https://github.com/GEOS300/AssignmentData/).  **Note** these data are in .csv format.  If you plan to work in excel, you should save a copy of the data in a suitable excel format (e.g., .xlsx) before making any charts or doing any calculations.\n",
        "\n",
        "Please upload your answers including all calculations, discussions, tables, and graphs in a single document (PDF or HTML file). Note that you can download your .ipynb file under 'File $\\gg$ Download as $\\gg$ HTLM or PDF via Latex' and submit this as your report. Label the report document with your name and your student number. Upload your answers to Canvas. **Do not attach a spreadsheet.**\n",
        "\n",
        "**Make Sure** your student number is include on each plot you produce, and that each plot is using the correct units.\n",
        "\n",
        "\n",
        "\n",
        "\n",
        "## CA DBB Flux Station\n",
        "\n",
        "In this lab, assignment, you're going to go back to look at more data from the CA-DBB (aka \"BB\") Eddy Covariance (EC) Station located in Delta, BC.  We're going to look specifically at a single day of EC observations to consider how the energy and mass flow through the ecosystem over a daily cycle.\n",
        "\n",
        "\n",
        ":::: {.columns}\n",
        "\n",
        "@fig-BB1 shows some pictures of the site from different perspectives.  @fig-map shows an interactive web map with high resolution satellite imagery.  Clicking on \"BB\" in will zoom to the CA-DBB station and show the site's \"Flux Footprint Climatology\", which is the average \"field of view\" of the eddy covariance system at the station.  Clicking the \"BB\" button again will toggle the footprint later on and off.  You can pan/zoom to get a feel for what the site looks like.  Take note of the scale bar in the bottom left to get a sense for how large the footprint is.  @tbl-dates shows the estimated size of the source area contours.\n",
        "\n",
        "\n",
        "::: {#fig-BB1 layout-ncol=2}\n",
        "\n",
        "![Looking south from above the in winter](../Lectures/images/BB1_Radiation.jpg){#fig-BB1-RAD}\n",
        "\n",
        "![Looking south from the EC station](../Lectures/images/BB1_Flux_Sensors.jpg){#fig-BB1-EC}\n",
        "\n",
        "![Drone image of the EC Station](../images/DJI_0524.JPG){#fig-BB1-Drone}\n",
        "\n",
        "![Close of up of the EC sensors](../images/EC_System.jpg){#fig-BB1-Sensors}\n",
        "\n",
        "\n",
        ":::\n",
        "\n",
        "::: {#fig-map}\n",
        "\n",
        "<div style=\"overflow: hidden;\n",
        "  padding-top: 55%;\n",
        "  position: relative\">\n",
        "<iframe src=\"https://ubc-micromet.github.io/FieldSiteMaps/\" title=\"Processes\" scrolling=\"no\" frameborder=\"0\"\n",
        "style=\"border: 0;\n",
        "height: 100%;\n",
        "left: 0;\n",
        "position: absolute;\n",
        "top: 0;\n",
        "width: 75%;\">\n",
        "</iframe>\n",
        "</div>\n",
        "Location of UBC-Micromet Eddy Covariance Stations\n",
        ":::\n",
        "\n",
        "\n",
        "Source Area % | Size $m^2$\n",
        "--------------|-----------\n",
        "90% | 13845\n",
        "75% | 2569\n",
        "50% | 587\n",
        "\n",
        ": Footprint climatology for the CA-DBB eddy covariance system, showing the area of the 50%, 75%, and 90% source area contours {#tbl-dates}\n",
        "\n",
        "::::\n",
        "\n",
        "\n",
        "\n",
        "\n",
        "\n",
        "The data-set includes half-hourly values of the following variables: absolute temperature $\\overline{T}$ at 0.4 m and 2 m above ground in $^{\\circC}$, mean horizontal wind $\\overline{u}$ at 0.4 and 2 m above ground in $m s^-1$, net all wave radiation $R_n$ at 5 m above ground in $W m^{-2}$, air pressure $P_a$ in $kPa$, photon flux density in $\\rm{\\mu mol}\\,\\rm{m}^{-2} \\rm{s}^{-1}$ and measured covariances $\\overline{u^{\\prime}w^{\\prime}}$, $\\overline{w^{\\prime}T^{\\prime}}$, $\\overline{w^{\\prime}\\rho_v^{\\prime}}$, and $\\overline{u^{\\prime}\\rho_{\\rm{CO}_2}^{\\prime}}$, all measured at 2 m above ground using an eddy covariance system. Here $u^{\\prime}$ and $w^{\\prime}$ are instantaneous horizontal and vertical winds in $m s^-1$, respectively, $\\rho_v$ is absolute humidity in $\\rm{g}\\,\\rm{m}^{-3}$, and $\\rho_{\\rm{CO}_2}$ is the molar density of the greenhouse gas carbon dioxide (in $\\rm{\\mu mol}\\,\\rm{m}^{-3}$).\n",
        "\n",
        "\n",
        "Last digit of student number | filename\n",
        "-----------------------------|---------\n",
        "0 | 20160620.txt\n",
        "1 | 20160808.txt\n",
        "2 | 20160811.txt\n",
        "3 | 20160812.txt\n",
        "4 | 20160813.txt\n",
        "5 | 20160817.txt\n",
        "6 | 20160729.txt\n",
        "7 | 20160730.txt\n",
        "8 | 20160820.txt\n",
        "9 | 20160821.txt\n",
        "\n",
        ": The file you are responsible for analyzing, named by date in YYYY (Year) mm (month) dd (day) format.  If you are completing the assignment using Python or R, use one of the example from the previous assignments to format your data download command.  Assignment 2 is a good template; you just need to change three things: 1) use the following url https://raw.githubusercontent.com/GEOS300/AssignmentData/main/CA_DBB_DailyData/20150728.txt 2) update the filename and 3) the date column is named \"Date/Time (PST)\".  *Note* if you are using R, the default behavior of the language is to substitute all non-alphanumeric characters (slashes, underscores, primes, etc.) with a \".\" character, so your column names will not perfectly match notation used in the file. You can also view/download your data files [here](https://github.com/GEOS300/AssignmentData/tree/main/CA_DBB_DailyData). {#tbl-dates}\n"
      ],
      "id": "df44d2d9"
    },
    {
      "cell_type": "code",
      "metadata": {},
      "source": [
        "#| include: false\n",
        "# Enter your information below\n",
        "Student_Name = 'June Skeeter'\n",
        "Student_Number = 123456789\n",
        "print(f'GEOS 300 Assignment Submission for {Student_Name}: {Student_Number}')"
      ],
      "id": "666e6151",
      "execution_count": null,
      "outputs": []
    },
    {
      "cell_type": "code",
      "metadata": {},
      "source": [
        "import numpy as np\n",
        "import pandas as pd\n",
        "import matplotlib.pyplot as plt\n",
        "from datetime import datetime as dt"
      ],
      "id": "af1dc9f4",
      "execution_count": null,
      "outputs": []
    },
    {
      "cell_type": "markdown",
      "metadata": {},
      "source": [
        "## Question 1\n",
        "\n",
        "Download your data and print descriptive statistics for all columns.  How do maximum and minimum air temperature at 0.4 m compare to those at 2.0 m?\n"
      ],
      "id": "deb50331"
    },
    {
      "cell_type": "code",
      "metadata": {},
      "source": [
        "# Insert your code or text answer here.  If writing a text answer in .ipynb, change the cell type to Markdown.  If writing a text answer in .Rmd, just delete the tick marks surrounding the block"
      ],
      "id": "8eb40960",
      "execution_count": null,
      "outputs": []
    },
    {
      "cell_type": "markdown",
      "metadata": {},
      "source": [
        "## Question 2\n",
        "\n",
        "Convert the air temperature $T$ values at 0.4 m and 2.0 m to potential temperature $\\theta$.  Recalculate the descriptive statistics for $\\theta_{z=0.4}$ and  $\\theta_{z=2}$; how does this adjustment impact the values?\n"
      ],
      "id": "7450a643"
    },
    {
      "cell_type": "code",
      "metadata": {},
      "source": [
        "# Insert your code or text answer here.  If writing a text answer in .ipynb, change the cell type to Markdown.  If writing a text answer in .Rmd, just delete the tick marks surrounding the block"
      ],
      "id": "c23ddec5",
      "execution_count": null,
      "outputs": []
    },
    {
      "cell_type": "markdown",
      "metadata": {},
      "source": [
        "## Question 3\n",
        "\n",
        "From the data-set provided, calculate $H$, $LE$ and $F_{CO2}$ from the covariances of $\\overline{w^{\\prime}T^{\\prime}}$, $\\overline{w^{\\prime}\\rho_v^{\\prime}}$, and $\\overline{w^{\\prime}\\rho_{\\rm{CO}_2}^{\\prime}}$ respectively.  You can assume that the specific of air is 1.01 kJ kg<sup>-1</sup> K<sup>-1</sup>.  You can estimate the density of air $\\rho$ using the Ideal Gas Law @eq-Ideal-Gas-Law and you can estimate the latent heat of vaporization following @eq-Latent-Heat-Vaporization:\n",
        "\n",
        "\n",
        "\n",
        "$$\n",
        "PV=nRT\n",
        "$${#eq-Ideal-Gas-Law}\n",
        "\n",
        "here,$R$ is the ideal gas constant ($8.31446261815324 Pa\\ m^3\\ mol^{-1} K ^{-1}$), $T$ is temperature (in Kelvin!), $P$ is air pressure, $V$ is volume, $n$ is the amount of the gas in mols; with $n=m/M$, where $m$ is mass and $M$ is the molar mass.  The molar mass of air is $\\approx .028964 kg mol^{-1}$\n",
        "\n",
        "Following Yao & Rogers (1996), the latent heat of vaporization of water ($L_v$ in $J g^{-1}$) can be approximated as a function of temperature ($T$ in $^{\\circ}C$) using a third order polynomial function:\n",
        "\n",
        "$$\n",
        "L_v = 2500.8-2.36T-0.0016T^2-0.00006T^3\n",
        "$${#eq-Latent-Heat-Vaporization}\n"
      ],
      "id": "239bd0be"
    },
    {
      "cell_type": "code",
      "metadata": {},
      "source": [
        "# Insert your code or text answer here.  If writing a text answer in .ipynb, change the cell type to Markdown.  If writing a text answer in .Rmd, just delete the tick marks surrounding the block"
      ],
      "id": "4dfa55e3",
      "execution_count": null,
      "outputs": []
    },
    {
      "cell_type": "markdown",
      "metadata": {},
      "source": [
        "## Question 4\n",
        "\n",
        "Create a graph with time of day on the $x$-axis and the three measured flux densities of the surface energy balance ($R_n$, $H$, $H$) on the $y$-axis. Briefly discuss their diurnal course.  Do $H$ and $LE$ sum to $R_n$?  If not, why?\n"
      ],
      "id": "31dca1d9"
    },
    {
      "cell_type": "code",
      "metadata": {},
      "source": [
        "# Insert your code or text answer here.  If writing a text answer in .ipynb, change the cell type to Markdown.  If writing a text answer in .Rmd, just delete the tick marks surrounding the block"
      ],
      "id": "cf32b031",
      "execution_count": null,
      "outputs": []
    },
    {
      "cell_type": "markdown",
      "metadata": {},
      "source": [
        "## Question 5\n",
        "\n",
        "For 16:00, Calculate $H$ based on the aerodynamic method using the simultaneously measured profiles of $\\overline{u}$ and $\\overline{T}$. How does the value of $H$ compare to $H$ calculated from $\\overline{w^{\\prime}T^{\\prime}}$? Why could it differ?\n"
      ],
      "id": "40be341d"
    },
    {
      "cell_type": "code",
      "metadata": {},
      "source": [
        "# Insert your code or text answer here.  If writing a text answer in .ipynb, change the cell type to Markdown.  If writing a text answer in .Rmd, just delete the tick marks surrounding the block"
      ],
      "id": "ea17e1d2",
      "execution_count": null,
      "outputs": []
    },
    {
      "cell_type": "markdown",
      "metadata": {},
      "source": [
        "## Question 6\n",
        "\n",
        "Using the covariances and the profile measurements, calculate the eddy diffusivities for sensible heat $K_H$ and momentum $K_M$ at 16:00. Is Reynold's analogy fulfilled or not at 16:00?\n"
      ],
      "id": "9c66756b"
    },
    {
      "cell_type": "code",
      "metadata": {},
      "source": [
        "# Insert your code or text answer here.  If writing a text answer in .ipynb, change the cell type to Markdown.  If writing a text answer in .Rmd, just delete the tick marks surrounding the block"
      ],
      "id": "57c8d6e5",
      "execution_count": null,
      "outputs": []
    },
    {
      "cell_type": "markdown",
      "metadata": {},
      "source": [
        "## Question 7\n",
        "\n",
        "For 16:00, calculate the Obukhov-length $L$ and the stability parameter $\\zeta = z/L$. Is $\\zeta = z/L$ really indicating `neutral' as assumed in using the aerodynamic method above?\n",
        "\n",
        "## Question 8\n",
        "\n",
        "In the process of photosynthesis, energy is extracted from photons in the PAR range. To assimilate one mole of $\\rm{CO}_2$, it requires an energy of 469 kJ. The same amount is released back during respiration (metabolism, decomposition of organic matter). We call this energy flux density the *net biochemical energy storage* $\\Delta P$. Calculate $\\Delta P$ at 13:00 in $\\rm{W}\\,\\rm{m}^{-2}$. At 13:00, what fraction of $R_n$ is used up in the process of photosynthesis? Is $\\Delta P$ a relevant term in the surface energy balance of this bog or not?\n",
        "\n",
        "## Question 9\n",
        "\n",
        "Determine the average carbon dioxide ($\\rm{CO}_2$) flux density between the bog and the atmosphere for this day and convert it to $\\rm{g}\\,\\rm{CO}_2\\,\\rm{m^{-2}}\\,\\rm{day}^{-1}$. Is the surface a net sink or net source for atmospheric $\\rm{CO}_2$ on this day?  Note: the molar mass of $\\rm{CO}_2$ 44.01 $g mol^{-1}$\n",
        "\n",
        "\n",
        "\n",
        ":::: {.columns}\n",
        "\n",
        "# Extra Credit: Self guided field trip\n",
        "\n",
        "**Note** the extra credit is due with the final exam.  Don't submit the extra credit with Assignment 4!  There will be a space to upload your extra credit on canvas in the exam!  The total value of the extra credit is yet to be determined, it will depend on how many people complete it and how much thought goes into the responses.\n",
        "\n",
        "The CA-DBB eddy covariance station is located within the Burns Bog Ecological Conservancy Area.  It is a large peatland area that is being actively managed to restore the the ecosystem after decades of peat harvesting and mismanagement.  Public access to the bog is prohibited, so we can't take a field trip to visit the site.  However, you can visit a (much smaller) restored peatland, which is only 30 minutes away from UBC!  The [Camosun Bog](http://camosunbog.ca/restoration-methods/) is a restored remnant of a once much larger peat bog, located on the eastern edgy of Pacific Spirit Park.  The entrance to the bog is a 6 minute walks south along Camosun street from 16th avenue, and it can easily accessible from UBC by bus via the 25 or 33 bus @fig-Camosun-Map.  The bog has a short elevated boardwalk @fig-Camosun-Map2 path with informational signs @fig-Camosun-Sign that allows visitors to explore this unique urban-peatland without disturbing the fragile ecosystem.  The bog is centered on \"Devils Hole\" (@fig-Camosun-Pond), a restored pond area surrounded by a small open sphagnum peatland that grades into the surrounding forested landscape.\n",
        "\n",
        "![Transit access to Camosun Bog](../images/Camosun.png){#fig-Camosun-Map}\n",
        "\n",
        "![Illustrative map of Camosun Bog](http://camosunbog.ca/wp-content/uploads/2017/12/26036951_525706821133853_1428030430_o-768x564.png){#fig-Camosun-Map2}\n",
        "\n",
        "![Pond in Camosun Bog](../images/PXL_20240326_005435097.jpg){#fig-Camosun-Sign}\n",
        "\n",
        "![Informational Signage at Camosun Bog](../images/PXL_20240326_005623891.jpg){#fig-Camosun-Pond}\n",
        "\n",
        "## Extra Credit Tasks!\n",
        "\n",
        "1. Visit the Camosun Bog!  Go to the Camosun Bog, walk around the boardwalk area, read the interpretive signs, and check out the unique ecosystem.   Take a selfie from the bog (or group photo if you visit with classmates!) with the bog clearly visible in the background to verify your visit.  If you aren't comfortable taking a selfie, a photo from the bog that includes your student number written on a piece of paper with the bog clearly visible in the background is also sufficient to verify your visit.\n",
        "\n",
        "2. Write a brief description of the bog (1 paragraph).  How does it compare (sights, sounds, smells) to the surrounding area (forest and residential neighborhood).\n",
        "\n",
        "3. The Camosun Bog restoration group is interested in measuring the water balance of the bog to ensure their restoration efforts will be effective over the long-term in a changing climate.  They are considering installing an eddy covariance system, similar to the CA-DBB eddy covariance station in Burns Bog to measure evapotranspiration at the site.  Do you think this would be an effective approach at this location?  Why or why not?  *Hint* you can zoom out / pan / zoom in on the map from assignment 4 to view the Camosun Bog with high resolution satellite imagery. \n",
        "\n",
        "\n",
        "::::\n"
      ],
      "id": "3e6e5249"
    }
  ],
  "metadata": {
    "kernelspec": {
      "name": "python3",
      "language": "python",
      "display_name": "Python 3 (ipykernel)"
    }
  },
  "nbformat": 4,
  "nbformat_minor": 5
}