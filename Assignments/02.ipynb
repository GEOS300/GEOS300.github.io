{
  "cells": [
    {
      "cell_type": "raw",
      "metadata": {},
      "source": [
        "---\n",
        "title: Assignment 2\n",
        "subtitle: 'GEOS 300, 2024'\n",
        "execute:\n",
        "  keep-ipynb: true\n",
        "echo: false\n",
        "---"
      ],
      "id": "28195ae1"
    },
    {
      "cell_type": "markdown",
      "metadata": {},
      "source": [
        "[Python and R code templates be found here](https://github.com/GEOS300/Assignment02) to help get you started.\n",
        "\n",
        "\n",
        "## Instructions\n",
        "\n",
        "It is strongly recommended that you complete the assignment in Python or R, although you can complete it in excel/numbers if necessary.  They will download the data for you and get you started with a few blocks of code to make plots and tables.  If you are electing to complete the lab in excel, you can find all the relevant data files here [here](https://github.com/GEOS300/AssignmentData/).  **Note** these data are in .csv format.  If you plan to work in excel, you should save a copy of the data in a suitable excel format (e.g., .xlsx) before making any charts or doing any calculations.\n",
        "\n",
        "Please upload your answers including all calculations, discussions, tables, and graphs in a single document (PDF or HTML file). Note that you can download your .ipynb file under 'File $\\gg$ Download as $\\gg$ HTLM or PDF via Latex' and submit this as your report. Label the report document with your name and your student number. Upload your answers to Canvas. **Do not attach a spreadsheet.**\n",
        "\n",
        "**Make Sure** your student number is include on each plot you produce, and that each plot is using the correct units.\n",
        "\n",
        "\n",
        "\n",
        "## Westham Island Energy Balance \n",
        "\n",
        "You have been randomly assigned a single day of data from the Westham Island energy balance station based on your student number (@tbl-dates).  Refer to the [metadata](https://github.com/GEOS300/AssignmentData/blob/main/WesthamIslandSoilData/Metadata.txt) for a description of the data with variable names, units, and sensor depths.  You can see this [lecture slide](https://geos300.github.io/Lectures/06.html#/24) for a photo of the station.  \n",
        "\n",
        "The soil at the climate station has been analyzed in the UBC Soil Water Atmosphere Lab and the following values were determined: porosity is $P=0.57$, bulk density of the dry soil is $\\rho_{dry} = 1.13$ Mg m$^{-3}$. The soil organic mass fraction was determined 3.77 % (of total dry soil mass). Assume that those values apply to the entire vertical profile.\n",
        "\n",
        "Last digit of student number | date (YYYMMDD)\n",
        "-----------------------------|-----\n",
        "0|20090614\n",
        "1|20090630\n",
        "2|20090701\n",
        "3|20090702\n",
        "4|20090711\n",
        "5|20090716\n",
        "6|20090721\n",
        "7|20090729\n",
        "8|20090730\n",
        "9|20090802\n",
        "\n",
        ": The date you are responsible for analyzing in YYYY (Year) MM (month) DD (day) format.  The filename for your date will follow this format: YYYYMMDD.txt.  e.g., 20240214.txt would be the file for February 14th, 2023.  If you are completing the assignment using Python or R, just edit the filename in the corresponding template. If you are completing the assignment by hand or in excel, you can find the data files [here](https://github.com/GEOS300/AssignmentData/tree/main/WesthamIslandSoilData). {#tbl-dates}\n"
      ],
      "id": "d1507daf"
    },
    {
      "cell_type": "markdown",
      "metadata": {},
      "source": [
        "---\n"
      ],
      "id": "2c9cfd67"
    },
    {
      "cell_type": "code",
      "metadata": {},
      "source": [
        "#| include: false\n",
        "# Enter your information below\n",
        "Student_Name = 'June Skeeter'\n",
        "Student_Number = 123456789\n",
        "print(f'GEOS 300 Assignment Submission for {Student_Name}: {Student_Number}')"
      ],
      "id": "1f30a4f1",
      "execution_count": null,
      "outputs": []
    },
    {
      "cell_type": "code",
      "metadata": {},
      "source": [
        "import numpy as np\n",
        "import pandas as pd\n",
        "import matplotlib.pyplot as plt\n",
        "from datetime import datetime as dt"
      ],
      "id": "32d3d5c0",
      "execution_count": null,
      "outputs": []
    },
    {
      "cell_type": "code",
      "metadata": {},
      "source": [
        "# Import the data from github & parse the timestamp for each record\n",
        "## **NOTE**  Make sure to edit the filename in the URL so it corresponds to the date you were assigned.\n",
        "data_url='https://raw.githubusercontent.com/GEOS300/AssignmentData/main/WesthamIslandSoilData/20090324.txt'\n",
        "# Pandas (pd here) allows us to set a timestamp as an index which lets us easily parse time series data\n",
        "df = pd.read_csv(data_url,parse_dates=['TIME(PST)'],index_col=['TIME(PST)'],na_values=-9999)\n",
        "\n",
        "# All sub-surface data were collected at the same frequency (15-minute intervals).  \n",
        "# However, H data were only available at 30-minute resolution.  \n",
        "# So we'll use a simple gap-filling procedure to estimate missing values from the nearest available observations.   \n",
        "# Use linear interpolation to estimate missing H values where possible.\n",
        "df['H_filled'] = df['H'].interpolate()\n",
        "# Backfill where linear interpolation doesn't work (the first observation)\n",
        "df['H_filled'] = df['H_filled'].bfill()\n",
        "\n",
        "print('Data imported and gap-filled successfully.')\n",
        "\n",
        "df.head()"
      ],
      "id": "8ba52f28",
      "execution_count": null,
      "outputs": []
    },
    {
      "cell_type": "markdown",
      "metadata": {},
      "source": [
        "## Question 1\n",
        "\n",
        "Run the code block above, making sure you've edited the file name so that it corresponds to **your assigned date** (@tbl-dates).  Then in the space below, calculate descriptive statistics for the all the variables in the dataset.  Comment on the mean value and the range (max-min) of the four soil temperature variables.  **Hint** you can refer to Assignment 1 for the appropriate commands to list descriptive statistics of a dataset.\n"
      ],
      "id": "0c291322"
    },
    {
      "cell_type": "code",
      "metadata": {},
      "source": [
        "# Insert your code or text answer here.  If writing a text answer in .ipynb, change the cell type to Markdown.  If writing a text answer in .Rmd, just delete the tick marks surrounding the block"
      ],
      "id": "4fea96a9",
      "execution_count": null,
      "outputs": []
    },
    {
      "cell_type": "markdown",
      "metadata": {},
      "source": [
        "## Question 2\n",
        "\n",
        "First we'll make a plot of net radiation ($R_n$), sensible heat flux ($H$), and ground heat flux ($H_g$).  Describe the patterns you see here and discuss how these three components of the energy balance compare to one another at this site.\n"
      ],
      "id": "3de10d75"
    },
    {
      "cell_type": "code",
      "metadata": {},
      "source": [
        "fig,ax=plt.subplots()\n",
        "plt.suptitle(f'Student #: {Student_Number}')\n",
        "df[['R_n','H_filled','H_g']].plot(ax=ax,\n",
        "              color=['black','red','blue'],\n",
        "              style=['-',':','--'])\n",
        "ax.legend(['Net Radiation','Sensible Heat Flux','Soil Heat Flux'])\n",
        "ax.set_ylabel('W m-2 s-1')\n",
        "ax.set_xlabel('Time')"
      ],
      "id": "6e62d243",
      "execution_count": null,
      "outputs": []
    },
    {
      "cell_type": "code",
      "metadata": {},
      "source": [
        "# Insert your code or text answer here.  If writing a text answer in .ipynb, change the cell type to Markdown.  If writing a text answer in .Rmd, just delete the tick marks surrounding the block"
      ],
      "id": "83fcaa34",
      "execution_count": null,
      "outputs": []
    },
    {
      "cell_type": "markdown",
      "metadata": {},
      "source": [
        "## Question 3\n",
        "\n",
        "Using the above code as a template, create another plot showing the four soil temperature observations over the 24 hour period.  Describe the patterns you see here: discuss how the soil changes with depth and through time over this day. \n"
      ],
      "id": "ad1c0ea7"
    },
    {
      "cell_type": "code",
      "metadata": {},
      "source": [
        "# Insert your code or text answer here.  If writing a text answer in .ipynb, change the cell type to Markdown.  If writing a text answer in .Rmd, just delete the tick marks surrounding the block"
      ],
      "id": "2165d20b",
      "execution_count": null,
      "outputs": []
    },
    {
      "cell_type": "markdown",
      "metadata": {},
      "source": [
        "## Question 4\n",
        "\n",
        "The code block below will give the first and last record in the dataset.  You can use this to calculate the net warming/cooling of the soil over the 24 hours for each depth (5 cm, 10 cm, 20 cm and the 50 cm), i.e. the temperature change from midnight to midnight. Speculate what caused the warming or cooling observed if there was any.\n"
      ],
      "id": "6979240d"
    },
    {
      "cell_type": "code",
      "metadata": {},
      "source": [
        "# A command to get rows of a dataframe based on their position and columns based on their names\n",
        "# 0 is the first row (python counts up from 0) and -1 is the position of the last row\n",
        "df.iloc[[0,-1],][['T_1','T_2','T_3','T_4']]"
      ],
      "id": "4c523ba8",
      "execution_count": null,
      "outputs": []
    },
    {
      "cell_type": "code",
      "metadata": {},
      "source": [
        "# Insert your code or text answer here.  If writing a text answer in .ipynb, change the cell type to Markdown.  If writing a text answer in .Rmd, just delete the tick marks surrounding the block"
      ],
      "id": "afd6c6f0",
      "execution_count": null,
      "outputs": []
    },
    {
      "cell_type": "markdown",
      "metadata": {},
      "source": [
        "## Question 5\n",
        "\n",
        "Using daily average soil temperature for each of the four depths ($T_1$ to $T_4$), determine the direction (away from or towards the ground surface) of the daily total $H_g$ in the soil layers from 5 - 10 cm, 10 - 20 cm and 20 - 50 cm?\n"
      ],
      "id": "e8a72397"
    },
    {
      "cell_type": "code",
      "metadata": {},
      "source": [
        "# Insert your code or text answer here.  If writing a text answer in .ipynb, change the cell type to Markdown.  If writing a text answer in .Rmd, just delete the tick marks surrounding the block"
      ],
      "id": "3ee3f865",
      "execution_count": null,
      "outputs": []
    },
    {
      "cell_type": "markdown",
      "metadata": {},
      "source": [
        "## Question 6\n",
        "\n",
        "Calculate the daily total of $H_g$ at 7.5 cm depth in $\\textrm{MJ}\\, \\textrm{m}^{-2}\\, \\textrm{day}^{-1}$ using the measured values from the soil heat flux plate. Compare the direction of $H_g$ to the direction of the heat flux obtained for the 5 -10 cm layer in question $5$.\n"
      ],
      "id": "46187f6e"
    },
    {
      "cell_type": "code",
      "metadata": {},
      "source": [
        "# A command to get rows of a dataframe based on their position and columns based on their names\n",
        "# 0 is the first row (python counts up from 0) and -1 is the position of the last row\n",
        "df.iloc[[0,-1],][['T_1','T_2','T_3','T_4']]"
      ],
      "id": "62a8ac32",
      "execution_count": null,
      "outputs": []
    },
    {
      "cell_type": "code",
      "metadata": {},
      "source": [
        "# Insert your code or text answer here.  If writing a text answer in .ipynb, change the cell type to Markdown.  If writing a text answer in .Rmd, just delete the tick marks surrounding the block"
      ],
      "id": "5ffa1452",
      "execution_count": null,
      "outputs": []
    },
    {
      "cell_type": "markdown",
      "metadata": {},
      "source": [
        "## Question 7\n",
        "\n",
        "Find a method to estimate the thermal conductivity of the soil $k$ at noon that day. Is $k$ constant throughout the day?\n"
      ],
      "id": "86e23f04"
    },
    {
      "cell_type": "code",
      "metadata": {},
      "source": [
        "# Insert your code or text answer here.  If writing a text answer in .ipynb, change the cell type to Markdown.  If writing a text answer in .Rmd, just delete the tick marks surrounding the block"
      ],
      "id": "63a95ced",
      "execution_count": null,
      "outputs": []
    },
    {
      "cell_type": "markdown",
      "metadata": {},
      "source": [
        "## Question 8\n",
        "\n",
        "Find a method to estimate soil's heat capacity $C$ using the change in mid-day soil temperatures over a two-hour period.  Use the near-surface observations for you calculations (5 and 10 cm).  Hint: the exact choice of timestamps is up to you, but keep in mind the timestamp corresponds to the end of the averaging periods.  This means a timestamp of 12:15, corresponds to the interval 12:00-12:15, and the center point of the observation period would be 12:07.5.\n"
      ],
      "id": "69790f98"
    },
    {
      "cell_type": "code",
      "metadata": {},
      "source": [
        "# Insert your code or text answer here.  If writing a text answer in .ipynb, change the cell type to Markdown.  If writing a text answer in .Rmd, just delete the tick marks surrounding the block"
      ],
      "id": "a2d7b192",
      "execution_count": null,
      "outputs": []
    },
    {
      "cell_type": "markdown",
      "metadata": {},
      "source": [
        "## Question 9\n",
        "\n",
        "Calculate the heat capacity $C$ of the soil using the lab analysis results (see introduction text) and measured soil water content $\\theta_w$. Does your value obtained agree with $C$ calculated based in the question above? Why or why not?  **Note** For subsequent calculations, use the value of $C$ from your answer to **this question**, and not $C$ from your answer to the previous question.\n"
      ],
      "id": "f90df8d2"
    },
    {
      "cell_type": "code",
      "metadata": {},
      "source": [
        "# Insert your code or text answer here.  If writing a text answer in .ipynb, change the cell type to Markdown.  If writing a text answer in .Rmd, just delete the tick marks surrounding the block"
      ],
      "id": "517df0f8",
      "execution_count": null,
      "outputs": []
    },
    {
      "cell_type": "markdown",
      "metadata": {},
      "source": [
        "## Question 10\n",
        "\n",
        "With $C$ from the question above, calculate the depths where you expect the amplitude of the diurnal and yearly waves to drop below 5\\% of the amplitude of the sinusoidal surface temperature wave.\n"
      ],
      "id": "49dc9e2b"
    },
    {
      "cell_type": "code",
      "metadata": {},
      "source": [
        "# Insert your code or text answer here.  If writing a text answer in .ipynb, change the cell type to Markdown.  If writing a text answer in .Rmd, just delete the tick marks surrounding the block"
      ],
      "id": "2f23c377",
      "execution_count": null,
      "outputs": []
    },
    {
      "cell_type": "markdown",
      "metadata": {},
      "source": [
        "## Question 11\n",
        "\n",
        "The soil heat flux density $H_g$ is not measured at the surface, but rather at 7.5 cm depth. Using $\\Delta T_1 / \\Delta t$ as a surrogate for the average warming / cooling rates in the whole layer from 0 to 7.5 cm, correct the soil heat flux density and find the value at the surface $H_{g(0)}$ at 10:00 and at 19:00.\n"
      ],
      "id": "560106d5"
    },
    {
      "cell_type": "code",
      "metadata": {},
      "source": [
        "# Insert your code or text answer here.  If writing a text answer in .ipynb, change the cell type to Markdown.  If writing a text answer in .Rmd, just delete the tick marks surrounding the block"
      ],
      "id": "e574a48e",
      "execution_count": null,
      "outputs": []
    },
    {
      "cell_type": "markdown",
      "metadata": {},
      "source": [
        "## Question 12\n",
        "\n",
        "Draw a graph of $R_n$ ($x$-axis) against $H_g$ ($y$-axis). Might we use $R_n$ to predict $H_g$ at 7.5 cm depth? What do we call this curve's characteristic? Explain the physical reason for the curve's shape. \n"
      ],
      "id": "502e33d6"
    },
    {
      "cell_type": "code",
      "metadata": {},
      "source": [
        "# Insert your code or text answer here.  If writing a text answer in .ipynb, change the cell type to Markdown.  If writing a text answer in .Rmd, just delete the tick marks surrounding the block"
      ],
      "id": "00bef52c",
      "execution_count": null,
      "outputs": []
    },
    {
      "cell_type": "markdown",
      "metadata": {},
      "source": [
        "## Question 13\n",
        "\n",
        "Calculate the thermal admittance of the atmosphere $\\mu_a$ at noon.\n"
      ],
      "id": "9b4be72e"
    },
    {
      "cell_type": "code",
      "metadata": {},
      "source": [
        "# Insert your code or text answer here.  If writing a text answer in .ipynb, change the cell type to Markdown.  If writing a text answer in .Rmd, just delete the tick marks surrounding the block"
      ],
      "id": "46384176",
      "execution_count": null,
      "outputs": []
    },
    {
      "cell_type": "markdown",
      "metadata": {},
      "source": [
        "## Question 14\n",
        "\n",
        "The Bowen ratio $\\beta$ describes the ratio between the sensible and latent heat flux densities directed into the atmosphere, i.e.\\ $\\beta = H/LE$. Calculate $\\beta$ from the available data for noon that day. Neglect the energy use for photosynthesis.\n"
      ],
      "id": "8449d109"
    },
    {
      "cell_type": "code",
      "metadata": {},
      "source": [
        "# Insert your code or text answer here.  If writing a text answer in .ipynb, change the cell type to Markdown.  If writing a text answer in .Rmd, just delete the tick marks surrounding the block"
      ],
      "id": "14a869a3",
      "execution_count": null,
      "outputs": []
    }
  ],
  "metadata": {
    "kernelspec": {
      "name": "python3",
      "language": "python",
      "display_name": "Python 3 (ipykernel)"
    }
  },
  "nbformat": 4,
  "nbformat_minor": 5
}