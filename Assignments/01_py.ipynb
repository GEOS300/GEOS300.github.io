{
  "cells": [
    {
      "cell_type": "raw",
      "metadata": {},
      "source": [
        "---\n",
        "title: Assignment 1 Py\n",
        "execute:\n",
        "  keep-ipynb: true\n",
        "---"
      ],
      "id": "3e45e8c9"
    },
    {
      "cell_type": "markdown",
      "metadata": {},
      "source": [
        "The code below will handle downloading and parsing your data for you, but if you are electing to complete the lab in excel or by hand, you can find the data [here](https://raw.githubusercontent.com/GEOS300/AssignmentData/main/Climate_Summary_BB.csv).  **Note** these data are in .csv format.  If you plan to work in excel, you should save a copy of the data in a suitable excel format (e.g., .xlsx) before making any charts or doing any calculations.\n",
        "\n",
        "\n",
        "In your virtual field visit you will see the radiation measurement site at Totem Field and discuss the way the instruments are deployed over the grass. You will use data from this site for your first assignment. \n",
        "\n",
        "\n",
        "Using the link below you will be provided with data from a single day (the actual day is selected based on your student number, as shown on the webpage). Data are available for download in various formats:\n",
        "\n",
        "\n",
        "In the files you will find measurements of the following variables: incoming and reflected short-wave radiation ($SW_{\\downarrow}$, $SW_{\\uparrow}$), incoming and outgoing long-wave radiation ($LW_{\\downarrow}$, $LW_{\\uparrow}$), air temperature ($T_a$) and relative humidity ($RH$). All measurements are from the set-up on CA-DBB (aka. BB1) Eddy Covariance station in Burns Bog.\n",
        "\n",
        "Instructions: Please upload your answers including calculations, discussions and graphs in a single, well-structured report (either Word, PDF or HTML file). Note that you can download your .ipynb file under 'File $\\gg$ Download as $\\gg$ HTLM or PDF via Latex'. Label the report document with your name, your student number, the course and year. Upload your answers to Canvas by \\underline{Monday, Feb 6, 2023, 11:59 pm}. Do not attach a spreadsheet. \n",
        "\n",
        "Marks are indicated in square brackets. In total, there are 50 marks. This assignment is worth 10\\% of the final course grade and requires a substantial time commitment.\n",
        "\n",
        "\n",
        "\n",
        "Import the necessary packages.  This code block below should (fingers crossed) check if you have packages installed and install them for you if not."
      ],
      "id": "b226a871"
    },
    {
      "cell_type": "code",
      "metadata": {},
      "source": [
        "import pip\n",
        "\n",
        "def import_or_install(package):\n",
        "    try:\n",
        "        return(__import__(package))\n",
        "    except ImportError:\n",
        "        pip.main(['install', package.split('.')[0]])  \n",
        "        return(__import__(package))\n",
        "    \n",
        "np = import_or_install('numpy')\n",
        "pd = import_or_install('pandas')\n",
        "dt = import_or_install('datetime')\n",
        "plt = import_or_install('matplotlib').pyplot"
      ],
      "id": "1da821b8",
      "execution_count": null,
      "outputs": []
    },
    {
      "cell_type": "markdown",
      "metadata": {},
      "source": [
        "### Question 1 \n",
        "\n",
        "Download and parse your data.  If you are using excel or doing calculations by hand (see instructions above).  Otherwise review the code block below.  We downloading the .csv file containing climate data from the CA-DBB flux station and formatting it to suit our needs.\n",
        "\n",
        "Using the \"head\" command, you can get a preview of the first part of your dataset.  What value do you see listed for Incoming $SW$ in the first row of the table and why does it have this value?  Make suer to specify the units in your answer.\n",
        "\n",
        "* Check the metadata provided [here](https://github.com/GEOS300/AssignmentData/blob/main/Climate_Summary_BB_Metadata.md) to make sure you understand the variable names and units.\n"
      ],
      "id": "30b736b6"
    },
    {
      "cell_type": "code",
      "metadata": {},
      "source": [
        "#| echo: true\n",
        "\n",
        "df = pd.read_csv(\"https://raw.githubusercontent.com/GEOS300/AssignmentData/main/Climate_Summary_BB.csv\",\n",
        "            parse_dates=['TIMESTAMP'],\n",
        "            index_col=['TIMESTAMP']\n",
        "            )\n",
        "\n",
        "df.head()"
      ],
      "id": "de4bcfd1",
      "execution_count": null,
      "outputs": []
    },
    {
      "cell_type": "markdown",
      "metadata": {},
      "source": [
        "### Question 2 \n",
        "\n",
        "In the example below - we are plotting traces of the four radiation components for the January 2024 cold-snap and snowstorm (Jan 12 to Jan 19).  Looking at the trace below - what stands out to you?  Comment on each component over time.  Do you see any issues in the data?\n"
      ],
      "id": "89d788da"
    },
    {
      "cell_type": "code",
      "metadata": {},
      "source": [
        "#| echo: true\n",
        "\n",
        "\n",
        "Start ='2024-01-12 0000'\n",
        "End ='2024-01-19 2359'\n",
        "\n",
        "Selection = df.loc[(\n",
        "    (df.index>=dt.datetime.strptime(Start, '%Y-%m-%d %H%M'))\n",
        "    &\n",
        "    (df.index<=dt.datetime.strptime(End, '%Y-%m-%d %H%M'))\n",
        "    )]\n",
        "\n",
        "fig,ax=plt.subplots()\n",
        "Selection.plot(ax=ax,\n",
        "              y=['SW_IN_1_1_1','LW_IN_1_1_1','SW_OUT_1_1_1', 'LW_OUT_1_1_1'],\n",
        "              color=['red','red','blue','blue'],\n",
        "              style=['-','--','-','--'])\n",
        "ax.legend(['SW In','SW Out','LW In','LW Out'],ncol=4)\n",
        "ax.set_ylabel('Units^{superscript}^{subscript}')\n",
        "ax.set_ylim([0,425])\n",
        "ax.set_title('Radiative Fluxes at CA-DBB Flux Station\\nStudent #')\n",
        "ax.grid()\n",
        "fig.autofmt_xdate()\n",
        "\n",
        "Selection['Albedo'] = Selection['SW_OUT_1_1_1']/Selection['SW_IN_1_1_1']\n",
        "Selection['Albedo'].describe()"
      ],
      "id": "fd204f47",
      "execution_count": null,
      "outputs": []
    },
    {
      "cell_type": "markdown",
      "metadata": {},
      "source": [
        "### Question 3 \n",
        "\n",
        "Using the example above as a template, plot the 4 component radiation for your assigned day.  Additionally, calculate $R_n$ and plot it on your chart as a solid black line.\n"
      ],
      "id": "a8289991"
    },
    {
      "cell_type": "code",
      "metadata": {},
      "source": [
        "# Insert your code here"
      ],
      "id": "94568cf8",
      "execution_count": null,
      "outputs": []
    }
  ],
  "metadata": {
    "kernelspec": {
      "name": "python3",
      "language": "python",
      "display_name": "Python 3 (ipykernel)"
    }
  },
  "nbformat": 4,
  "nbformat_minor": 5
}