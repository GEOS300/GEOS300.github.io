{
  "cells": [
    {
      "cell_type": "raw",
      "metadata": {},
      "source": [
        "---\n",
        "title: Assignment 3\n",
        "subtitle: 'GEOS 300, 2024'\n",
        "execute:\n",
        "  keep-ipynb: true\n",
        "echo: false\n",
        "---"
      ],
      "id": "983498e8"
    },
    {
      "cell_type": "markdown",
      "metadata": {},
      "source": [
        "[Python and R code templates be found here](https://github.com/GEOS300/Assignment03) to help get you started.\n",
        "\n",
        "\n",
        "## Instructions\n",
        "\n",
        "It is strongly recommended that you complete the assignment in Python or R, although you can complete it in excel/numbers if necessary.  They will download the data for you and get you started with a few blocks of code to make plots and tables.  If you are electing to complete the lab in excel, you can find all the relevant data files here [here](https://github.com/GEOS300/AssignmentData/).  **Note** these data are in .csv format.  If you plan to work in excel, you should save a copy of the data in a suitable excel format (e.g., .xlsx) before making any charts or doing any calculations.\n",
        "\n",
        "Please upload your answers including all calculations, discussions, tables, and graphs in a single document (PDF or HTML file). Note that you can download your .ipynb file under 'File $\\gg$ Download as $\\gg$ HTLM or PDF via Latex' and submit this as your report. Label the report document with your name and your student number. Upload your answers to Canvas. **Do not attach a spreadsheet.**\n",
        "\n",
        "**Make Sure** your student number is include on each plot you produce, and that each plot is using the correct units.\n",
        "\n",
        "\n",
        "\n",
        "In this exercise you will use a 30-min data-set measured above an extensively flat cotton field near Kettleman City, CA, US. The actual day / time is selected based on your student number, the timestamp you are responsible for can be found in (@tbl-dates). You will be provided with two tables: \n",
        "\n",
        "**Table1**: lists horizontal wind speeds $\\overline{u}$ measured with cup-anemometers installed at six heights on a profile tower averaged over 30 minutes. Air temperature and pressure are also provided in the table header.\n",
        "\n",
        "**Table2**: contains longitudinal wind $u$, lateral wind $v$ and vertical wind $w$ measured every second over the same 30 minutes by a fast-response anemometer located at 6.4 m height.\n",
        "\n",
        "* For all questions assume neutral conditions, $z_d=0$, and $P_a$ = 100 kPa.\n",
        "\n",
        "\n",
        "Last digit of student number | date (YYYmmddHHMM)\n",
        "-----------------------------|-----\n",
        "0 | 200008021530\n",
        "1 | 200008031000\n",
        "2 | 200008031030\n",
        "3 | 200008031200\n",
        "4 | 200008041030\n",
        "5 | 200008041100\n",
        "6 | 200008041130\n",
        "7 | 200008041530\n",
        "8 | 200008101230\n",
        "9 | 200008101530\n",
        "\n",
        "\n",
        ": The Timestamp you are responsible for analyzing in YYYY (Year) mm (month) dd (day) HH (hour) MM (minute) format.  The filename for your date will follow this format: YYYYmmddHHMM.txt.  e.g., wind202402141330.txt and turbulence202402141330.txt would be the files for February 14th, 2023 13:30.  If you are completing the assignment using Python or R, just edit the filename timestamp in the corresponding template. If you are completing the assignment by hand or in excel, you can find the data files [here](https://github.com/GEOS300/AssignmentData/tree/main/WesthamIslandSoilData). {#tbl-dates}\n"
      ],
      "id": "ff39e935"
    },
    {
      "cell_type": "code",
      "metadata": {},
      "source": [
        "#| include: false\n",
        "# Enter your information below\n",
        "Student_Name = 'June Skeeter'\n",
        "Student_Number = 123456789\n",
        "print(f'GEOS 300 Assignment Submission for {Student_Name}: {Student_Number}')"
      ],
      "id": "4b128034",
      "execution_count": null,
      "outputs": []
    },
    {
      "cell_type": "code",
      "metadata": {},
      "source": [
        "import numpy as np\n",
        "import pandas as pd\n",
        "import matplotlib.pyplot as plt\n",
        "from datetime import datetime as dt"
      ],
      "id": "7216b5fb",
      "execution_count": null,
      "outputs": []
    },
    {
      "cell_type": "code",
      "metadata": {},
      "source": [
        "# Import the data from github & parse the timestamp for each record\n",
        "## **NOTE**  Make sure to edit the TimeStamp variable so it corresponds to the timestamp you were assigned.\n",
        "data_url='https://raw.githubusercontent.com/GEOS300/AssignmentData/main/KettlemanCityCottonField/'\n",
        "TimeStamp = '200008191630'\n",
        "\n",
        "# Format the links to Table 1 (mean wind speed) and Table 2 (high frequency wind data)\n",
        "Table_1_url = f'{data_url}wind{TimeStamp}.txt'\n",
        "Table_2_url = f'{data_url}turbulence{TimeStamp}.txt'\n",
        "\n",
        "# Both tables have 7 rows of metadata at the top.  We'll parse and print those before reading the rest of the data\n",
        "header_rows = 7\n",
        "\n",
        "print('Table 1 Metadata:')\n",
        "Table_1_header_info = pd.read_fwf(Table_1_url,widths=[100],nrows=header_rows,header=None)\n",
        "for i,row in Table_1_header_info.iterrows():\n",
        "    print(row.values[0])\n",
        "\n",
        "Table_1 = pd.read_csv(Table_1_url,skiprows=header_rows,na_values=-9999)\n",
        "\n",
        "print('Table 1 Data:')\n",
        "print(Table_1)\n",
        "\n",
        "print('\\n\\n')\n",
        "\n",
        "print('Table 2 Metadata:')\n",
        "Table_2_header_info = pd.read_fwf(Table_2_url,widths=[100],nrows=header_rows,header=None)\n",
        "for i,row in Table_2_header_info.iterrows():\n",
        "    print(row.values[0])\n",
        "\n",
        "# Pandas (pd here) allows us to set a timestamp as an index which lets us easily parse time series data\n",
        "Table_2 = pd.read_csv(Table_2_url,skiprows=header_rows,\n",
        "    parse_dates={'TIMESTAMP':['YYYY-MM-DD HH:MM:SS']},index_col='TIMESTAMP',na_values=-9999)\n",
        "\n",
        "\n",
        "print('Table 2 Data preview:')\n",
        "Table_2.head()\n"
      ],
      "id": "761ca7f3",
      "execution_count": null,
      "outputs": []
    },
    {
      "cell_type": "markdown",
      "metadata": {},
      "source": [
        "## Question 1\n",
        "\n",
        "Estimate $z_0$ from the measured values vertical wind profile provided.  Indicate your estimate of $z_0$ in m and produce a log wind profile plot.  You can either use a spreadsheet/software or by hand using [semi-logarithmic graph paper](https://www.eeweb.com/wp-content/uploads/semi-log-graph-paper.pdf). **Note**: If you solve this question using a semi-logarithmic paper, use a ruler and your graphical judgement (subjective) to create the best fit through the points.\n"
      ],
      "id": "2e0257d0"
    },
    {
      "cell_type": "code",
      "metadata": {},
      "source": [
        "# Hint 1 >>\n",
        "# This function can be used to calculate the \"natural logarithm\" (ln):\n",
        "# np.log()\n",
        "\n",
        "# Hint 2 >>\n",
        "# The \"polyfit\" function can be used to estimate the slope (m) and intercept (b) of a line (Y=mX+b), \n",
        "# with the following syntax:\n",
        "# m,b np.polyfit(X,Y,1)\n",
        "\n",
        "# Hint 3 >>\n",
        "# The following set of commands can add a new first row a table \n",
        "# 1) Crate a new table with one row (without data values)\n",
        "# If you know the values you want to add, just replace np.nan with the value\n",
        "# new_first_row = pd.DataFrame(data={\n",
        "#                             'Height (m)':np.nan,\n",
        "#                             'Wind Speed (m/s)':np.nan,\n",
        "#                              # Any other columns follow the same pattern\n",
        "#                             },index=[-1])\n",
        "\n",
        "# 2) Concatenate the new row to the top of the original table then reset the index\n",
        "# Wind_Profile = pd.concat([new_first_row,Table_1]).reset_index()"
      ],
      "id": "6e9854f2",
      "execution_count": null,
      "outputs": []
    },
    {
      "cell_type": "markdown",
      "metadata": {},
      "source": [
        "## Question 2\n",
        "\n",
        "Based on the slope of the curve in Question 1, calculate the friction velocity $u_{\\ast}$.\n"
      ],
      "id": "ce520d22"
    },
    {
      "cell_type": "code",
      "metadata": {},
      "source": [
        "# Insert your code or text answer here.  If writing a text answer in .ipynb, change the cell type to Markdown.  If writing a text answer in .Rmd, just delete the tick marks surrounding the block"
      ],
      "id": "e7d61320",
      "execution_count": null,
      "outputs": []
    },
    {
      "cell_type": "markdown",
      "metadata": {},
      "source": [
        "##  Question 3\n",
        "\n",
        "Estimate the surface shear stress $\\tau_0$ from the result in Question 2 and with help of Appendix A3 (p. 392 ff.) in T. R. Oke, 'Boundary Layer Climates available on Canvas.\n"
      ],
      "id": "96904b8d"
    },
    {
      "cell_type": "code",
      "metadata": {},
      "source": [
        "# Insert your code or text answer here.  If writing a text answer in .ipynb, change the cell type to Markdown.  If writing a text answer in .Rmd, just delete the tick marks surrounding the block"
      ],
      "id": "1c771ff8",
      "execution_count": null,
      "outputs": []
    },
    {
      "cell_type": "markdown",
      "metadata": {},
      "source": [
        "## Question 4\n",
        "\n",
        "Estimate the eddy diffusivities for momentum $K_M$ using the wind gradients $\\Delta \\overline{u}$ in Table 1 between (a) $z=0.95$ and $1.55$ m, (b) $z=1.55$ and $2.35$ m, (c) $z=2.35$ and $3.72$ m, (d) $z=3.72$ and $6.15$ m, and (e) $z=6.15$ and $9.05$ m. How does $K_M$ change with height? Explain why.\n"
      ],
      "id": "e435114e"
    },
    {
      "cell_type": "code",
      "metadata": {},
      "source": [
        "# Insert your code or text answer here.  If writing a text answer in .ipynb, change the cell type to Markdown.  If writing a text answer in .Rmd, just delete the tick marks surrounding the block"
      ],
      "id": "8a569823",
      "execution_count": null,
      "outputs": []
    },
    {
      "cell_type": "markdown",
      "metadata": {},
      "source": [
        "## Question 5\n",
        "\n",
        "From the values in Table 1, calculate the aerodynamic resistance of the momentum flux $r_{a_M}$ for the layer from the surface to 9.05 m. \n"
      ],
      "id": "d287953c"
    },
    {
      "cell_type": "code",
      "metadata": {},
      "source": [
        "# Insert your code or text answer here.  If writing a text answer in .ipynb, change the cell type to Markdown.  If writing a text answer in .Rmd, just delete the tick marks surrounding the block"
      ],
      "id": "a9ec8a59",
      "execution_count": null,
      "outputs": []
    },
    {
      "cell_type": "markdown",
      "metadata": {},
      "source": [
        "## Question 6\n",
        "\n",
        "From the turbulence data provided in Table 2, calculate $\\overline{u}$, $\\overline{v}$, and $\\overline{w}$.  How does the magnitude of $\\overline{u}$ compare to $\\overline{v}$, and $\\overline{w}$?\n"
      ],
      "id": "7f76b528"
    },
    {
      "cell_type": "code",
      "metadata": {},
      "source": [
        "# Insert your code or text answer here.  If writing a text answer in .ipynb, change the cell type to Markdown.  If writing a text answer in .Rmd, just delete the tick marks surrounding the block"
      ],
      "id": "170bc266",
      "execution_count": null,
      "outputs": []
    },
    {
      "cell_type": "markdown",
      "metadata": {},
      "source": [
        "## Question 7\n",
        "\n",
        "From the data in Table 2 calculate $\\overline{u^{\\prime 2}}$, $\\overline{v^{\\prime 2}}$, and $\\overline{w^{\\prime 2}}$. Name those parameters.\n"
      ],
      "id": "e70a9662"
    },
    {
      "cell_type": "code",
      "metadata": {},
      "source": [
        "# Insert your code or text answer here.  If writing a text answer in .ipynb, change the cell type to Markdown.  If writing a text answer in .Rmd, just delete the tick marks surrounding the block"
      ],
      "id": "ecf75b99",
      "execution_count": null,
      "outputs": []
    },
    {
      "cell_type": "markdown",
      "metadata": {},
      "source": [
        "## Question 8\n",
        "\n",
        "From the data in Table 2 calculate the turbulence intensities $I_u$, $I_v$, and $I_w$.\n"
      ],
      "id": "33c7f8c3"
    },
    {
      "cell_type": "code",
      "metadata": {},
      "source": [
        "# Insert your code or text answer here.  If writing a text answer in .ipynb, change the cell type to Markdown.  If writing a text answer in .Rmd, just delete the tick marks surrounding the block"
      ],
      "id": "2cf440eb",
      "execution_count": null,
      "outputs": []
    },
    {
      "cell_type": "markdown",
      "metadata": {},
      "source": [
        "## Question 9\n",
        "\n",
        "From the data in Table 2 calculate the mean turbulent kinetic energy per unit mass $\\overline{e}$. What is the ratio of $\\overline{e}$ to the mean kinetic energy per unit mass?\n"
      ],
      "id": "9b71ec75"
    },
    {
      "cell_type": "code",
      "metadata": {},
      "source": [
        "# Insert your code or text answer here.  If writing a text answer in .ipynb, change the cell type to Markdown.  If writing a text answer in .Rmd, just delete the tick marks surrounding the block"
      ],
      "id": "ce1622d3",
      "execution_count": null,
      "outputs": []
    },
    {
      "cell_type": "markdown",
      "metadata": {},
      "source": [
        "## Question 10\n",
        "\n",
        "Which of the three wind components, $u$, $v$ or $w$, contains most turbulent kinetic energy per unit mass. Speculate about the shape of the eddies.\n"
      ],
      "id": "38d4a16d"
    },
    {
      "cell_type": "code",
      "metadata": {},
      "source": [
        "# Insert your code or text answer here.  If writing a text answer in .ipynb, change the cell type to Markdown.  If writing a text answer in .Rmd, just delete the tick marks surrounding the block"
      ],
      "id": "654a64b0",
      "execution_count": null,
      "outputs": []
    },
    {
      "cell_type": "markdown",
      "metadata": {},
      "source": [
        "## Question 11\n",
        "\n",
        "From the data in Table 2 calculate (a) $\\overline{u^{\\prime}v^{\\prime}}$ and (b) $\\overline{u^{\\prime}w^{\\prime}}$\n"
      ],
      "id": "76d860f8"
    },
    {
      "cell_type": "code",
      "metadata": {},
      "source": [
        "# Insert your code or text answer here.  If writing a text answer in .ipynb, change the cell type to Markdown.  If writing a text answer in .Rmd, just delete the tick marks surrounding the block"
      ],
      "id": "8b2cc1e4",
      "execution_count": null,
      "outputs": []
    },
    {
      "cell_type": "markdown",
      "metadata": {},
      "source": [
        "## Question 12\n",
        "\n",
        "Calculate $r_{uv}$ and $r_{uw}$. Discuss your results.\n"
      ],
      "id": "798e03bc"
    },
    {
      "cell_type": "code",
      "metadata": {},
      "source": [
        "# Insert your code or text answer here.  If writing a text answer in .ipynb, change the cell type to Markdown.  If writing a text answer in .Rmd, just delete the tick marks surrounding the block"
      ],
      "id": "a60f114c",
      "execution_count": null,
      "outputs": []
    },
    {
      "cell_type": "markdown",
      "metadata": {},
      "source": [
        "## Question 13\n",
        "\n",
        "Plot a scatter graph of $u^{\\prime}$ ($x$-axis) vs. $w^{\\prime}$ ($y$-axis). Comment your graph and discuss if it looks like you expected.\n"
      ],
      "id": "469e97ba"
    },
    {
      "cell_type": "code",
      "metadata": {},
      "source": [
        "# Insert your code or text answer here.  If writing a text answer in .ipynb, change the cell type to Markdown.  If writing a text answer in .Rmd, just delete the tick marks surrounding the block"
      ],
      "id": "aad73dcf",
      "execution_count": null,
      "outputs": []
    },
    {
      "cell_type": "markdown",
      "metadata": {},
      "source": [
        "## Question 14\n",
        "\n",
        "Using your result in question 11 (b), calculate the friction velocity $u_{\\ast}$ based on the high-frequency data and compare it to your answer in question 2.\n"
      ],
      "id": "252f44d4"
    },
    {
      "cell_type": "code",
      "metadata": {},
      "source": [
        "# Insert your code or text answer here.  If writing a text answer in .ipynb, change the cell type to Markdown.  If writing a text answer in .Rmd, just delete the tick marks surrounding the block"
      ],
      "id": "1232c4e2",
      "execution_count": null,
      "outputs": []
    }
  ],
  "metadata": {
    "kernelspec": {
      "name": "python3",
      "language": "python",
      "display_name": "Python 3 (ipykernel)"
    }
  },
  "nbformat": 4,
  "nbformat_minor": 5
}