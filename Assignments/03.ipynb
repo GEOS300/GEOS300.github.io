{
  "cells": [
    {
      "cell_type": "raw",
      "metadata": {},
      "source": [
        "---\n",
        "title: Assignment 3\n",
        "subtitle: 'GEOS 300, 2024'\n",
        "execute:\n",
        "  keep-ipynb: true\n",
        "echo: false\n",
        "---"
      ],
      "id": "f380a766"
    },
    {
      "cell_type": "markdown",
      "metadata": {},
      "source": [
        "[Python and R code templates be found here](https://github.com/GEOS300/Assignment03) to help get you started.\n",
        "\n",
        "\n",
        "## Instructions\n",
        "\n",
        "It is strongly recommended that you complete the assignment in Python or R, although you can complete it in excel/numbers if necessary.  They will download the data for you and get you started with a few blocks of code to make plots and tables.  If you are electing to complete the lab in excel, you can find all the relevant data files here [here](https://github.com/GEOS300/AssignmentData/).  **Note** these data are in .csv format.  If you plan to work in excel, you should save a copy of the data in a suitable excel format (e.g., .xlsx) before making any charts or doing any calculations.\n",
        "\n",
        "Please upload your answers including all calculations, discussions, tables, and graphs in a single document (PDF or HTML file). Note that you can download your .ipynb file under 'File $\\gg$ Download as $\\gg$ HTLM or PDF via Latex' and submit this as your report. Label the report document with your name and your student number. Upload your answers to Canvas. **Do not attach a spreadsheet.**\n",
        "\n",
        "**Make Sure** your student number is include on each plot you produce, and that each plot is using the correct units.\n",
        "\n",
        "\n",
        "\n",
        "In this exercise you will use a 30-min data-set measured above an extensively flat cotton field near Kettleman City, CA, US. The actual day / time is selected based on your student number, the timestamp you are responsible for can be found in (@tbl-dates). You will be provided with two tables: \n",
        "\n",
        "**Table1**: lists horizontal wind speeds $\\overline{u}$ measured with cup-anemometers installed at six heights on a profile tower averaged over 30 minutes. Air temperature and pressure are also provided in the table header.\n",
        "\n",
        "**Table2**: contains longitudinal wind $u$, lateral wind $v$ and vertical wind $w$ measured every second over the same 30 minutes by a fast-response anemometer located at 6.4 m height.\n",
        "\n",
        "* For all questions assume neutral conditions, $z_d=0$, and $P_a$ = 100 kPa.\n",
        "\n",
        "\n",
        "Last digit of student number | date (YYYmmddHHMM)\n",
        "-----------------------------|-----\n",
        "0 | 200008021530\n",
        "1 | 200008031000\n",
        "2 | 200008031030\n",
        "3 | 200008031200\n",
        "4 | 200008041030\n",
        "5 | 200008041100\n",
        "6 | 200008041130\n",
        "7 | 200008041530\n",
        "8 | 200008101230\n",
        "9 | 200008101530\n",
        "\n",
        "\n",
        ": The Timestamp you are responsible for analyzing in YYYY (Year) mm (month) dd (day) HH (hour) MM (minute) format.  The filename for your date will follow this format: YYYYmmddHHMM.txt.  e.g., wind202402141330.txt and turbulence202402141330.txt would be the files for February 14th, 2023 13:30.  If you are completing the assignment using Python or R, just edit the filename timestamp in the corresponding template. If you are completing the assignment by hand or in excel, you can find the data files [here](https://github.com/GEOS300/AssignmentData/tree/main/WesthamIslandSoilData). {#tbl-dates}\n"
      ],
      "id": "933de57a"
    },
    {
      "cell_type": "code",
      "metadata": {},
      "source": [
        "#| include: false\n",
        "# Enter your information below\n",
        "Student_Name = 'June Skeeter'\n",
        "Student_Number = 123456789\n",
        "print(f'GEOS 300 Assignment Submission for {Student_Name}: {Student_Number}')"
      ],
      "id": "78a9535a",
      "execution_count": null,
      "outputs": []
    },
    {
      "cell_type": "code",
      "metadata": {},
      "source": [
        "import numpy as np\n",
        "import pandas as pd\n",
        "import matplotlib.pyplot as plt\n",
        "from datetime import datetime as dt"
      ],
      "id": "3f152a85",
      "execution_count": null,
      "outputs": []
    },
    {
      "cell_type": "code",
      "metadata": {},
      "source": [
        "# Import the data from github & parse the timestamp for each record\n",
        "## **NOTE**  Make sure to edit the TimeStamp variable so it corresponds to the timestamp you were assigned.\n",
        "data_url='https://raw.githubusercontent.com/GEOS300/AssignmentData/main/KettlemanCityCottonField/'\n",
        "TimeStamp = '200008191630'\n",
        "\n",
        "# Format the links to Table 1 (mean wind speed) and Table 2 (high frequency wind data)\n",
        "Table_1_url = f'{data_url}wind{TimeStamp}.txt'\n",
        "Table_2_url = f'{data_url}turbulence{TimeStamp}.txt'\n",
        "\n",
        "# Both tables have 7 rows of metadata at the top.  We'll parse and print those before reading the rest of the data\n",
        "header_rows = 7\n",
        "\n",
        "print('Table 1 Metadata:')\n",
        "Table_1_header_info = pd.read_fwf(Table_1_url,widths=[100],nrows=header_rows,header=None)\n",
        "for i,row in Table_1_header_info.iterrows():\n",
        "    print(row.values[0])\n",
        "\n",
        "Table_1 = pd.read_csv(Table_1_url,skiprows=header_rows,na_values=-9999)\n",
        "\n",
        "print('Table 1 Data:')\n",
        "print(Table_1)\n",
        "\n",
        "print('\\n\\n')\n",
        "\n",
        "print('Table 2 Metadata:')\n",
        "Table_2_header_info = pd.read_fwf(Table_2_url,widths=[100],nrows=header_rows,header=None)\n",
        "for i,row in Table_2_header_info.iterrows():\n",
        "    print(row.values[0])\n",
        "\n",
        "# Pandas (pd here) allows us to set a timestamp as an index which lets us easily parse time series data\n",
        "Table_2 = pd.read_csv(Table_2_url,skiprows=header_rows,\n",
        "    parse_dates={'TIMESTAMP':['YYYY-MM-DD HH:MM:SS']},index_col='TIMESTAMP',na_values=-9999)\n",
        "\n",
        "\n",
        "print('Table 2 Data preview:')\n",
        "Table_2.head()\n"
      ],
      "id": "a417c58e",
      "execution_count": null,
      "outputs": []
    },
    {
      "cell_type": "markdown",
      "metadata": {},
      "source": [
        "## Question 1\n",
        "\n",
        "Estimate $z_0$ from the measured values vertical wind profile provided.  Indicate your estimate of $z_0$ in m and produce a log wind profile plot.  You can either use a spreadsheet/software or by hand using [semi-logarithmic graph paper](https://www.eeweb.com/wp-content/uploads/semi-log-graph-paper.pdf). **Note**: If you solve this question using a semi-logarithmic paper, use a ruler and your graphical judgement (subjective) to create the best fit through the points.\n"
      ],
      "id": "77b7a0db"
    },
    {
      "cell_type": "code",
      "metadata": {},
      "source": [
        "# Hint 1 >>\n",
        "# This function can be used to calculate the \"natural logarithm\" (ln):\n",
        "# np.log()\n",
        "\n",
        "# Hint 2 >>\n",
        "# The \"polyfit\" function can be used to estimate the slope (m) and intercept (b) of a line (Y=mX+b), \n",
        "# with the following syntax:\n",
        "# m,b np.polyfit(X,Y,1)\n",
        "\n",
        "# Hint 3 >>\n",
        "# The following set of commands can add a new first row a table \n",
        "# 1) Crate a new table with one row (without data values)\n",
        "# If you know the values you want to add, just replace np.nan with the value\n",
        "# new_first_row = pd.DataFrame(data={\n",
        "#                             'Height (m)':np.nan,\n",
        "#                             'Wind Speed (m/s)':np.nan,\n",
        "#                              # Any other columns follow the same pattern\n",
        "#                             },index=[-1])\n",
        "\n",
        "# 2) Concatenate the new row to the top of the original table then reset the index\n",
        "# Wind_Profile = pd.concat([new_first_row,Table_1]).reset_index()"
      ],
      "id": "122e4bbe",
      "execution_count": null,
      "outputs": []
    },
    {
      "cell_type": "markdown",
      "metadata": {},
      "source": [
        "## Question 2\n",
        "\n",
        "Based on the slope of the curve in Question 1, calculate the friction velocity $u_{\\ast}$.\n"
      ],
      "id": "44725947"
    },
    {
      "cell_type": "code",
      "metadata": {},
      "source": [
        "# Insert your code or text answer here.  If writing a text answer in .ipynb, change the cell type to Markdown.  If writing a text answer in .Rmd, just delete the tick marks surrounding the block"
      ],
      "id": "41e35985",
      "execution_count": null,
      "outputs": []
    },
    {
      "cell_type": "markdown",
      "metadata": {},
      "source": [
        "##  Question 3\n",
        "\n",
        "Estimate the surface shear stress $\\tau_0$ from the result in Question 2 and with help of the ideal gas law:\n",
        "\n",
        "\n",
        "$$\n",
        "PV=nRT\n",
        "$${#eq-Ideal-Gas-Law}\n",
        "\n",
        "here,$R$ is the ideal gas constant ($8.31446261815324 Pa\\ m^3\\ mol^{-1} K ^{-1}$), $T$ is temperature (in Kelvin!), $P$ is air pressure, $V$ is volume, $n$ is the amount of the gas in mols; with $n=m/M$, where $m$ is mass and $M$ is the molar mass.  The molar mass of air is $\\approx .028964 kg mol^{-1}$\n"
      ],
      "id": "4eb50499"
    },
    {
      "cell_type": "code",
      "metadata": {},
      "source": [
        "# Insert your code or text answer here.  If writing a text answer in .ipynb, change the cell type to Markdown.  If writing a text answer in .Rmd, just delete the tick marks surrounding the block"
      ],
      "id": "74b7edfe",
      "execution_count": null,
      "outputs": []
    },
    {
      "cell_type": "markdown",
      "metadata": {},
      "source": [
        "## Question 4\n",
        "\n",
        "Estimate the eddy diffusivities for momentum $K_M$ using the wind gradients $\\Delta \\overline{u}$ in Table 1 between (a) $z=0.95$ and $1.55$ m, (b) $z=1.55$ and $2.35$ m, (c) $z=2.35$ and $3.72$ m, (d) $z=3.72$ and $6.15$ m, and (e) $z=6.15$ and $9.05$ m. How does $K_M$ change with height? Explain why.\n"
      ],
      "id": "cb713ad2"
    },
    {
      "cell_type": "code",
      "metadata": {},
      "source": [
        "# Insert your code or text answer here.  If writing a text answer in .ipynb, change the cell type to Markdown.  If writing a text answer in .Rmd, just delete the tick marks surrounding the block"
      ],
      "id": "405fa771",
      "execution_count": null,
      "outputs": []
    },
    {
      "cell_type": "markdown",
      "metadata": {},
      "source": [
        "## Question 5\n",
        "\n",
        "From the values in Table 1, calculate the aerodynamic resistance of the momentum flux $r_{a_M}$ for the layer from the surface to 9.05 m. \n"
      ],
      "id": "c4a72f61"
    },
    {
      "cell_type": "code",
      "metadata": {},
      "source": [
        "# Insert your code or text answer here.  If writing a text answer in .ipynb, change the cell type to Markdown.  If writing a text answer in .Rmd, just delete the tick marks surrounding the block"
      ],
      "id": "ac7787a1",
      "execution_count": null,
      "outputs": []
    },
    {
      "cell_type": "markdown",
      "metadata": {},
      "source": [
        "## Question 6\n",
        "\n",
        "From the turbulence data provided in Table 2, calculate $\\overline{u}$, $\\overline{v}$, and $\\overline{w}$.  How does the magnitude of $\\overline{u}$ compare to $\\overline{v}$, and $\\overline{w}$?\n"
      ],
      "id": "2d2830e5"
    },
    {
      "cell_type": "code",
      "metadata": {},
      "source": [
        "# Insert your code or text answer here.  If writing a text answer in .ipynb, change the cell type to Markdown.  If writing a text answer in .Rmd, just delete the tick marks surrounding the block"
      ],
      "id": "ebd4e029",
      "execution_count": null,
      "outputs": []
    },
    {
      "cell_type": "markdown",
      "metadata": {},
      "source": [
        "## Question 7\n",
        "\n",
        "From the data in Table 2 calculate $\\overline{u^{\\prime 2}}$, $\\overline{v^{\\prime 2}}$, and $\\overline{w^{\\prime 2}}$. Name those parameters.\n"
      ],
      "id": "43132e97"
    },
    {
      "cell_type": "code",
      "metadata": {},
      "source": [
        "# Insert your code or text answer here.  If writing a text answer in .ipynb, change the cell type to Markdown.  If writing a text answer in .Rmd, just delete the tick marks surrounding the block"
      ],
      "id": "49e1056b",
      "execution_count": null,
      "outputs": []
    },
    {
      "cell_type": "markdown",
      "metadata": {},
      "source": [
        "## Question 8\n",
        "\n",
        "From the data in Table 2 calculate the turbulence intensities $I_u$, $I_v$, and $I_w$.\n"
      ],
      "id": "f5233156"
    },
    {
      "cell_type": "code",
      "metadata": {},
      "source": [
        "# Insert your code or text answer here.  If writing a text answer in .ipynb, change the cell type to Markdown.  If writing a text answer in .Rmd, just delete the tick marks surrounding the block"
      ],
      "id": "32875613",
      "execution_count": null,
      "outputs": []
    },
    {
      "cell_type": "markdown",
      "metadata": {},
      "source": [
        "## Question 9\n",
        "\n",
        "From the data in Table 2 calculate the mean turbulent kinetic energy per unit mass $\\overline{e}$. What is the ratio of $\\overline{e}$ to the mean kinetic energy per unit mass?\n"
      ],
      "id": "6d8ca06f"
    },
    {
      "cell_type": "code",
      "metadata": {},
      "source": [
        "# Insert your code or text answer here.  If writing a text answer in .ipynb, change the cell type to Markdown.  If writing a text answer in .Rmd, just delete the tick marks surrounding the block"
      ],
      "id": "0747b1fa",
      "execution_count": null,
      "outputs": []
    },
    {
      "cell_type": "markdown",
      "metadata": {},
      "source": [
        "## Question 10\n",
        "\n",
        "Which of the three wind components, $u$, $v$ or $w$, contains most turbulent kinetic energy per unit mass. Speculate about the shape of the eddies.\n"
      ],
      "id": "6f535ed2"
    },
    {
      "cell_type": "code",
      "metadata": {},
      "source": [
        "# Insert your code or text answer here.  If writing a text answer in .ipynb, change the cell type to Markdown.  If writing a text answer in .Rmd, just delete the tick marks surrounding the block"
      ],
      "id": "f944be98",
      "execution_count": null,
      "outputs": []
    },
    {
      "cell_type": "markdown",
      "metadata": {},
      "source": [
        "## Question 11\n",
        "\n",
        "From the data in Table 2 calculate (a) $\\overline{u^{\\prime}v^{\\prime}}$ and (b) $\\overline{u^{\\prime}w^{\\prime}}$\n"
      ],
      "id": "3303331b"
    },
    {
      "cell_type": "code",
      "metadata": {},
      "source": [
        "# Insert your code or text answer here.  If writing a text answer in .ipynb, change the cell type to Markdown.  If writing a text answer in .Rmd, just delete the tick marks surrounding the block"
      ],
      "id": "f415f044",
      "execution_count": null,
      "outputs": []
    },
    {
      "cell_type": "markdown",
      "metadata": {},
      "source": [
        "## Question 12\n",
        "\n",
        "Calculate $r_{uv}$ and $r_{uw}$. Discuss your results.\n"
      ],
      "id": "fcfddf38"
    },
    {
      "cell_type": "code",
      "metadata": {},
      "source": [
        "# Insert your code or text answer here.  If writing a text answer in .ipynb, change the cell type to Markdown.  If writing a text answer in .Rmd, just delete the tick marks surrounding the block"
      ],
      "id": "2df10b4a",
      "execution_count": null,
      "outputs": []
    },
    {
      "cell_type": "markdown",
      "metadata": {},
      "source": [
        "## Question 13\n",
        "\n",
        "Plot a scatter graph of $u^{\\prime}$ ($x$-axis) vs. $w^{\\prime}$ ($y$-axis). Comment your graph and discuss if it looks like you expected.\n"
      ],
      "id": "9b0da1ca"
    },
    {
      "cell_type": "code",
      "metadata": {},
      "source": [
        "# Insert your code or text answer here.  If writing a text answer in .ipynb, change the cell type to Markdown.  If writing a text answer in .Rmd, just delete the tick marks surrounding the block"
      ],
      "id": "63afa392",
      "execution_count": null,
      "outputs": []
    },
    {
      "cell_type": "markdown",
      "metadata": {},
      "source": [
        "## Question 14\n",
        "\n",
        "Using your result in question 11 (b), calculate the friction velocity $u_{\\ast}$ based on the high-frequency data and compare it to your answer in question 2.\n"
      ],
      "id": "3e4c49b6"
    },
    {
      "cell_type": "code",
      "metadata": {},
      "source": [
        "# Insert your code or text answer here.  If writing a text answer in .ipynb, change the cell type to Markdown.  If writing a text answer in .Rmd, just delete the tick marks surrounding the block"
      ],
      "id": "3d90810c",
      "execution_count": null,
      "outputs": []
    }
  ],
  "metadata": {
    "kernelspec": {
      "name": "python3",
      "language": "python",
      "display_name": "Python 3 (ipykernel)"
    }
  },
  "nbformat": 4,
  "nbformat_minor": 5
}